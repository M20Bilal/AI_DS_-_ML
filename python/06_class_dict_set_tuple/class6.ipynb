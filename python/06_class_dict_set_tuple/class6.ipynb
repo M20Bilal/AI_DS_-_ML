{
 "cells": [
  {
   "cell_type": "markdown",
   "id": "1b2b944c",
   "metadata": {},
   "source": [
    "# Topics: Dated 28 Mar 2023\n",
    "* List comprehensive\n",
    "* Tuple\n",
    "* Set\n",
    "* Dictionary\n"
   ]
  },
  {
   "cell_type": "code",
   "execution_count": 1,
   "id": "ceda54aa",
   "metadata": {},
   "outputs": [
    {
     "data": {
      "text/plain": [
       "range(0, 11)"
      ]
     },
     "execution_count": 1,
     "metadata": {},
     "output_type": "execute_result"
    }
   ],
   "source": [
    "range(11)"
   ]
  },
  {
   "cell_type": "code",
   "execution_count": 43,
   "id": "ea0db8fd",
   "metadata": {},
   "outputs": [
    {
     "data": {
      "text/plain": [
       "[0, 1, 2, 3, 4, 5, 6, 7, 8, 9, 10]"
      ]
     },
     "execution_count": 43,
     "metadata": {},
     "output_type": "execute_result"
    }
   ],
   "source": [
    "list(range(11))"
   ]
  },
  {
   "cell_type": "code",
   "execution_count": 2,
   "id": "64baf6a4",
   "metadata": {},
   "outputs": [
    {
     "name": "stdout",
     "output_type": "stream",
     "text": [
      "0\n",
      "1\n",
      "2\n",
      "3\n",
      "4\n",
      "5\n",
      "6\n",
      "7\n",
      "8\n",
      "9\n",
      "10\n"
     ]
    }
   ],
   "source": [
    "for i in range(11):\n",
    "    print(i)"
   ]
  },
  {
   "cell_type": "code",
   "execution_count": 3,
   "id": "bbb73b28",
   "metadata": {},
   "outputs": [
    {
     "name": "stdout",
     "output_type": "stream",
     "text": [
      "1\n",
      "2\n",
      "3\n",
      "4\n",
      "5\n",
      "6\n",
      "7\n",
      "8\n",
      "9\n",
      "10\n"
     ]
    }
   ],
   "source": [
    "for i in range(1,11):\n",
    "    print(i)"
   ]
  },
  {
   "cell_type": "code",
   "execution_count": 5,
   "id": "ba3869c0",
   "metadata": {},
   "outputs": [
    {
     "name": "stdout",
     "output_type": "stream",
     "text": [
      "iteration no 1\n",
      "iteration no 2\n",
      "iteration no 3\n",
      "iteration no 4\n",
      "iteration no 5\n",
      "iteration no 6\n",
      "iteration no 7\n",
      "iteration no 8\n",
      "iteration no 9\n",
      "iteration no 10\n"
     ]
    }
   ],
   "source": [
    "for i in range(1,11):\n",
    "    print(\"iteration no\",i)"
   ]
  },
  {
   "cell_type": "code",
   "execution_count": 6,
   "id": "80e85ba4",
   "metadata": {},
   "outputs": [
    {
     "name": "stdout",
     "output_type": "stream",
     "text": [
      "iteration no\n",
      "iteration no\n",
      "iteration no\n",
      "iteration no\n",
      "iteration no\n",
      "iteration no\n",
      "iteration no\n",
      "iteration no\n",
      "iteration no\n",
      "iteration no\n"
     ]
    }
   ],
   "source": [
    "for i in range(1,11):\n",
    "    print(\"iteration no\")"
   ]
  },
  {
   "cell_type": "code",
   "execution_count": 10,
   "id": "48afce64",
   "metadata": {},
   "outputs": [
    {
     "name": "stdout",
     "output_type": "stream",
     "text": [
      "iteration no: 1\n",
      "iteration no: 2\n",
      "iteration no: 3\n",
      "iteration no: 4\n",
      "iteration no: 5\n",
      "iteration no: 6\n",
      "iteration no: 7\n",
      "iteration no: 8\n",
      "iteration no: 9\n",
      "iteration no: 10\n"
     ]
    }
   ],
   "source": [
    "for i in range(1,11):\n",
    "    print(\"iteration no:\",i)"
   ]
  },
  {
   "cell_type": "code",
   "execution_count": 15,
   "id": "99a95b2d",
   "metadata": {},
   "outputs": [
    {
     "name": "stdout",
     "output_type": "stream",
     "text": [
      "2 X 1 = 2\n",
      "2 X 2 = 4\n",
      "2 X 3 = 6\n",
      "2 X 4 = 8\n",
      "2 X 5 = 10\n",
      "2 X 6 = 12\n",
      "2 X 7 = 14\n",
      "2 X 8 = 16\n",
      "2 X 9 = 18\n",
      "2 X 10 = 20\n"
     ]
    }
   ],
   "source": [
    "for i in range(1,11):\n",
    "    print(f\"{2} X {i} = {2*i}\")"
   ]
  },
  {
   "cell_type": "code",
   "execution_count": 20,
   "id": "eb8b0dbe",
   "metadata": {},
   "outputs": [
    {
     "name": "stdout",
     "output_type": "stream",
     "text": [
      "Enter number for table generation:7\n",
      "7 X 1 = 7\n",
      "7 X 2 = 14\n",
      "7 X 3 = 21\n",
      "7 X 4 = 28\n",
      "7 X 5 = 35\n",
      "7 X 6 = 42\n",
      "7 X 7 = 49\n",
      "7 X 8 = 56\n",
      "7 X 9 = 63\n",
      "7 X 10 = 70\n"
     ]
    }
   ],
   "source": [
    "table = int(input(\"Enter number for table generation:\"))\n",
    "\n",
    "for i in range(1,11):\n",
    "    print(f\"{table} X {i} = {table*i}\")"
   ]
  },
  {
   "cell_type": "code",
   "execution_count": 21,
   "id": "aa6298be",
   "metadata": {},
   "outputs": [
    {
     "name": "stdout",
     "output_type": "stream",
     "text": [
      "iteration no 1\n",
      "iteration no 2\n",
      "iteration no 3\n",
      "iteration no 4\n",
      "iteration no 5\n",
      "iteration no 6\n",
      "iteration no 7\n",
      "iteration no 8\n",
      "iteration no 9\n",
      "iteration no 10\n"
     ]
    },
    {
     "data": {
      "text/plain": [
       "[None, None, None, None, None, None, None, None, None, None]"
      ]
     },
     "execution_count": 21,
     "metadata": {},
     "output_type": "execute_result"
    }
   ],
   "source": [
    "[print(\"iteration no\",i) for i in range(1,11)]\n",
    "    "
   ]
  },
  {
   "cell_type": "code",
   "execution_count": 23,
   "id": "d7cbca50",
   "metadata": {},
   "outputs": [
    {
     "data": {
      "text/plain": [
       "['iteration no 1',\n",
       " 'iteration no 2',\n",
       " 'iteration no 3',\n",
       " 'iteration no 4',\n",
       " 'iteration no 5',\n",
       " 'iteration no 6',\n",
       " 'iteration no 7',\n",
       " 'iteration no 8',\n",
       " 'iteration no 9',\n",
       " 'iteration no 10']"
      ]
     },
     "execution_count": 23,
     "metadata": {},
     "output_type": "execute_result"
    }
   ],
   "source": [
    "[f\"iteration no {i}\" for i in range(1,11)]\n",
    "    "
   ]
  },
  {
   "cell_type": "code",
   "execution_count": 24,
   "id": "c457c585",
   "metadata": {},
   "outputs": [
    {
     "data": {
      "text/plain": [
       "[1, 2, 3, 4, 5, 6, 7, 8, 9, 10]"
      ]
     },
     "execution_count": 24,
     "metadata": {},
     "output_type": "execute_result"
    }
   ],
   "source": [
    "[i for i in range(1,11)]\n"
   ]
  },
  {
   "cell_type": "code",
   "execution_count": 25,
   "id": "a3ac2bbd",
   "metadata": {},
   "outputs": [
    {
     "data": {
      "text/plain": [
       "[3, 4, 5, 6, 7, 8, 9, 10, 11, 12]"
      ]
     },
     "execution_count": 25,
     "metadata": {},
     "output_type": "execute_result"
    }
   ],
   "source": [
    "[i+5//2 for i in range(1,11)]\n"
   ]
  },
  {
   "cell_type": "code",
   "execution_count": 45,
   "id": "e0eee045",
   "metadata": {},
   "outputs": [
    {
     "name": "stdout",
     "output_type": "stream",
     "text": [
      "(1, 1) \n",
      "(2, 1) (2, 2) \n",
      "(3, 1) (3, 2) (3, 3) \n",
      "(4, 1) (4, 2) (4, 3) (4, 4) \n",
      "(5, 1) (5, 2) (5, 3) (5, 4) (5, 5) \n",
      "(6, 1) (6, 2) (6, 3) (6, 4) (6, 5) (6, 6) \n",
      "(7, 1) (7, 2) (7, 3) (7, 4) (7, 5) (7, 6) (7, 7) \n",
      "(8, 1) (8, 2) (8, 3) (8, 4) (8, 5) (8, 6) (8, 7) (8, 8) \n",
      "(9, 1) (9, 2) (9, 3) (9, 4) (9, 5) (9, 6) (9, 7) (9, 8) (9, 9) \n",
      "(10, 1) (10, 2) (10, 3) (10, 4) (10, 5) (10, 6) (10, 7) (10, 8) (10, 9) (10, 10) \n"
     ]
    }
   ],
   "source": [
    "for i in range(1,11): \n",
    "    for j in range(1,i+1):\n",
    "        print((i,j),end=\" \")        \n",
    "    print()\n",
    "        \n",
    "        "
   ]
  },
  {
   "cell_type": "code",
   "execution_count": 27,
   "id": "8976bf4b",
   "metadata": {},
   "outputs": [
    {
     "data": {
      "text/plain": [
       "[1,\n",
       " 2,\n",
       " 4,\n",
       " 3,\n",
       " 6,\n",
       " 9,\n",
       " 4,\n",
       " 8,\n",
       " 12,\n",
       " 16,\n",
       " 5,\n",
       " 10,\n",
       " 15,\n",
       " 20,\n",
       " 25,\n",
       " 6,\n",
       " 12,\n",
       " 18,\n",
       " 24,\n",
       " 30,\n",
       " 36,\n",
       " 7,\n",
       " 14,\n",
       " 21,\n",
       " 28,\n",
       " 35,\n",
       " 42,\n",
       " 49,\n",
       " 8,\n",
       " 16,\n",
       " 24,\n",
       " 32,\n",
       " 40,\n",
       " 48,\n",
       " 56,\n",
       " 64,\n",
       " 9,\n",
       " 18,\n",
       " 27,\n",
       " 36,\n",
       " 45,\n",
       " 54,\n",
       " 63,\n",
       " 72,\n",
       " 81,\n",
       " 10,\n",
       " 20,\n",
       " 30,\n",
       " 40,\n",
       " 50,\n",
       " 60,\n",
       " 70,\n",
       " 80,\n",
       " 90,\n",
       " 100]"
      ]
     },
     "execution_count": 27,
     "metadata": {},
     "output_type": "execute_result"
    }
   ],
   "source": [
    "[(i*j) for i in range(1,11) for j in range(1,i+1)]"
   ]
  },
  {
   "cell_type": "code",
   "execution_count": 34,
   "id": "82bf651e",
   "metadata": {},
   "outputs": [
    {
     "name": "stdout",
     "output_type": "stream",
     "text": [
      "[1, 2, 3]\n",
      "1\n"
     ]
    }
   ],
   "source": [
    "data = [[1,2,3],\n",
    "       [4,5,6],\n",
    "       [7,8,9]]\n",
    "\n",
    "print(data[0])\n",
    "print(data[0][0])\n"
   ]
  },
  {
   "cell_type": "code",
   "execution_count": 35,
   "id": "87fbec7b",
   "metadata": {},
   "outputs": [
    {
     "data": {
      "text/plain": [
       "3"
      ]
     },
     "execution_count": 35,
     "metadata": {},
     "output_type": "execute_result"
    }
   ],
   "source": [
    "data = [[1,2,3],\n",
    "       [4,5,6],\n",
    "       [7,8,9]]\n",
    "\n",
    "\n",
    "len(data)"
   ]
  },
  {
   "cell_type": "code",
   "execution_count": 39,
   "id": "fce3a64b",
   "metadata": {},
   "outputs": [
    {
     "name": "stdout",
     "output_type": "stream",
     "text": [
      "[1, 2, 3] 0\n",
      "[4, 5, 6] 1\n",
      "[7, 8, 9] 2\n"
     ]
    }
   ],
   "source": [
    "data = [[1,2,3],\n",
    "       [4,5,6],\n",
    "       [7,8,9]]\n",
    "\n",
    "\n",
    "for row in range(len(data)):\n",
    "    print(data[row], row)"
   ]
  },
  {
   "cell_type": "code",
   "execution_count": 40,
   "id": "154b00f7",
   "metadata": {},
   "outputs": [
    {
     "name": "stdout",
     "output_type": "stream",
     "text": [
      "1 2 3 \n",
      "4 5 6 \n",
      "7 8 9 \n"
     ]
    }
   ],
   "source": [
    "data = [[1,2,3],\n",
    "       [4,5,6],\n",
    "       [7,8,9]]\n",
    "\n",
    "\n",
    "for row in range(len(data)):\n",
    "    for col in range(len(data[row])):\n",
    "        print(data[row][col], end=\" \")\n",
    "    print()"
   ]
  },
  {
   "cell_type": "code",
   "execution_count": 48,
   "id": "8df7f74d",
   "metadata": {},
   "outputs": [
    {
     "name": "stdout",
     "output_type": "stream",
     "text": [
      "1 2 3 \n",
      "4 5 6 \n",
      "7 8 9 \n"
     ]
    }
   ],
   "source": [
    "data = [[1,2,3],\n",
    "       [4,5,6],\n",
    "       [7,8,9]]\n",
    "\n",
    "for row in data:\n",
    "    for col in row:\n",
    "        print(col, end=\" \") # child\n",
    "    print()# parent"
   ]
  },
  {
   "cell_type": "code",
   "execution_count": 42,
   "id": "563368d9",
   "metadata": {},
   "outputs": [
    {
     "data": {
      "text/plain": [
       "[1, 2, 3, 4, 5, 6, 7, 8, 9]"
      ]
     },
     "execution_count": 42,
     "metadata": {},
     "output_type": "execute_result"
    }
   ],
   "source": [
    "data = [[1,2,3],\n",
    "       [4,5,6],\n",
    "       [7,8,9]]\n",
    "\n",
    "[data[row][col]  for row in range(len(data)) for col in range(len(data[row])) ]"
   ]
  },
  {
   "cell_type": "code",
   "execution_count": null,
   "id": "584595e6",
   "metadata": {},
   "outputs": [],
   "source": [
    "10\n",
    "20\n",
    "\n",
    "\n",
    "1 x 1 = 1   2 x 1 = 2\n",
    "1 x 2 = 2   2 x 2 = 4"
   ]
  },
  {
   "cell_type": "markdown",
   "id": "8a344162",
   "metadata": {},
   "source": [
    "# Tuple"
   ]
  },
  {
   "cell_type": "code",
   "execution_count": 49,
   "id": "ce2f6d0b",
   "metadata": {},
   "outputs": [
    {
     "name": "stdout",
     "output_type": "stream",
     "text": [
      "<class 'tuple'>\n",
      "('a', 'b', 'c', 1, 2, 3)\n"
     ]
    }
   ],
   "source": [
    "data = ('a','b','c', 1,2,3)\n",
    "print(type(data))\n",
    "print(data)"
   ]
  },
  {
   "cell_type": "code",
   "execution_count": 50,
   "id": "4f620bb3",
   "metadata": {},
   "outputs": [
    {
     "name": "stdout",
     "output_type": "stream",
     "text": [
      "<class 'tuple'>\n",
      "('a', 'b', 'c', 1, 2, 3)\n"
     ]
    }
   ],
   "source": [
    "data = 'a','b','c', 1,2,3\n",
    "print(type(data))\n",
    "print(data)"
   ]
  },
  {
   "cell_type": "code",
   "execution_count": 52,
   "id": "fea657ca",
   "metadata": {},
   "outputs": [
    {
     "name": "stdout",
     "output_type": "stream",
     "text": [
      "<class 'tuple'>\n",
      "a\n"
     ]
    }
   ],
   "source": [
    "data = 'a','b','c', 1,2,3\n",
    "print(type(data))\n",
    "print(data[0])"
   ]
  },
  {
   "cell_type": "code",
   "execution_count": 53,
   "id": "7ad4255f",
   "metadata": {},
   "outputs": [
    {
     "name": "stdout",
     "output_type": "stream",
     "text": [
      "<class 'tuple'>\n",
      "('a', 'b', 'c')\n"
     ]
    }
   ],
   "source": [
    "data = 'a','b','c', 1,2,3\n",
    "print(type(data))\n",
    "print(data[0:3])"
   ]
  },
  {
   "cell_type": "code",
   "execution_count": 55,
   "id": "5ca60e32",
   "metadata": {},
   "outputs": [
    {
     "name": "stdout",
     "output_type": "stream",
     "text": [
      "<class 'tuple'>\n"
     ]
    },
    {
     "ename": "TypeError",
     "evalue": "'tuple' object does not support item assignment",
     "output_type": "error",
     "traceback": [
      "\u001b[1;31m---------------------------------------------------------------------------\u001b[0m",
      "\u001b[1;31mTypeError\u001b[0m                                 Traceback (most recent call last)",
      "\u001b[1;32m~\\AppData\\Local\\Temp\\ipykernel_19544\\3434522532.py\u001b[0m in \u001b[0;36m<module>\u001b[1;34m\u001b[0m\n\u001b[0;32m      1\u001b[0m \u001b[0mdata\u001b[0m \u001b[1;33m=\u001b[0m \u001b[1;33m(\u001b[0m\u001b[1;34m'a'\u001b[0m\u001b[1;33m,\u001b[0m\u001b[1;34m'b'\u001b[0m\u001b[1;33m,\u001b[0m\u001b[1;34m'c'\u001b[0m\u001b[1;33m,\u001b[0m \u001b[1;36m1\u001b[0m\u001b[1;33m,\u001b[0m\u001b[1;36m2\u001b[0m\u001b[1;33m,\u001b[0m\u001b[1;36m3\u001b[0m\u001b[1;33m)\u001b[0m\u001b[1;33m\u001b[0m\u001b[1;33m\u001b[0m\u001b[0m\n\u001b[0;32m      2\u001b[0m \u001b[0mprint\u001b[0m\u001b[1;33m(\u001b[0m\u001b[0mtype\u001b[0m\u001b[1;33m(\u001b[0m\u001b[0mdata\u001b[0m\u001b[1;33m)\u001b[0m\u001b[1;33m)\u001b[0m\u001b[1;33m\u001b[0m\u001b[1;33m\u001b[0m\u001b[0m\n\u001b[1;32m----> 3\u001b[1;33m \u001b[0mdata\u001b[0m\u001b[1;33m[\u001b[0m\u001b[1;36m0\u001b[0m\u001b[1;33m]\u001b[0m \u001b[1;33m=\u001b[0m \u001b[1;34m\"A\"\u001b[0m\u001b[1;33m\u001b[0m\u001b[1;33m\u001b[0m\u001b[0m\n\u001b[0m",
      "\u001b[1;31mTypeError\u001b[0m: 'tuple' object does not support item assignment"
     ]
    }
   ],
   "source": [
    "data = ('a','b','c', 1,2,3)\n",
    "print(type(data))\n",
    "data[0] = \"A\""
   ]
  },
  {
   "cell_type": "code",
   "execution_count": 78,
   "id": "c924605d",
   "metadata": {},
   "outputs": [
    {
     "name": "stdout",
     "output_type": "stream",
     "text": [
      "<class 'tuple'>\n"
     ]
    },
    {
     "data": {
      "text/plain": [
       "('A', 'b', 'c', 1, 2, 3)"
      ]
     },
     "execution_count": 78,
     "metadata": {},
     "output_type": "execute_result"
    }
   ],
   "source": [
    "data = ('A','b','c', 1,2,3)\n",
    "print(type(data))\n",
    "data"
   ]
  },
  {
   "cell_type": "markdown",
   "id": "ca670782",
   "metadata": {},
   "source": [
    "# tuple not fully imutable"
   ]
  },
  {
   "cell_type": "code",
   "execution_count": 82,
   "id": "6868bd3f",
   "metadata": {},
   "outputs": [
    {
     "data": {
      "text/plain": [
       "('a', 'b', 'c', [100, 2, 8])"
      ]
     },
     "execution_count": 82,
     "metadata": {},
     "output_type": "execute_result"
    }
   ],
   "source": [
    "a = ('a','b','c', [1,2])\n",
    "a[3].append(8)\n",
    "a[3][0] = 100\n",
    "a"
   ]
  },
  {
   "cell_type": "code",
   "execution_count": null,
   "id": "d24d51ab",
   "metadata": {},
   "outputs": [],
   "source": []
  },
  {
   "cell_type": "code",
   "execution_count": null,
   "id": "e12d60ee",
   "metadata": {},
   "outputs": [],
   "source": []
  },
  {
   "cell_type": "code",
   "execution_count": 56,
   "id": "044e4a2e",
   "metadata": {},
   "outputs": [
    {
     "data": {
      "text/plain": [
       "['__add__',\n",
       " '__class__',\n",
       " '__class_getitem__',\n",
       " '__contains__',\n",
       " '__delattr__',\n",
       " '__dir__',\n",
       " '__doc__',\n",
       " '__eq__',\n",
       " '__format__',\n",
       " '__ge__',\n",
       " '__getattribute__',\n",
       " '__getitem__',\n",
       " '__getnewargs__',\n",
       " '__gt__',\n",
       " '__hash__',\n",
       " '__init__',\n",
       " '__init_subclass__',\n",
       " '__iter__',\n",
       " '__le__',\n",
       " '__len__',\n",
       " '__lt__',\n",
       " '__mul__',\n",
       " '__ne__',\n",
       " '__new__',\n",
       " '__reduce__',\n",
       " '__reduce_ex__',\n",
       " '__repr__',\n",
       " '__rmul__',\n",
       " '__setattr__',\n",
       " '__sizeof__',\n",
       " '__str__',\n",
       " '__subclasshook__',\n",
       " 'count',\n",
       " 'index']"
      ]
     },
     "execution_count": 56,
     "metadata": {},
     "output_type": "execute_result"
    }
   ],
   "source": [
    "dir(tuple)"
   ]
  },
  {
   "cell_type": "code",
   "execution_count": 57,
   "id": "60288d51",
   "metadata": {},
   "outputs": [
    {
     "data": {
      "text/plain": [
       "['__add__',\n",
       " '__class__',\n",
       " '__class_getitem__',\n",
       " '__contains__',\n",
       " '__delattr__',\n",
       " '__delitem__',\n",
       " '__dir__',\n",
       " '__doc__',\n",
       " '__eq__',\n",
       " '__format__',\n",
       " '__ge__',\n",
       " '__getattribute__',\n",
       " '__getitem__',\n",
       " '__gt__',\n",
       " '__hash__',\n",
       " '__iadd__',\n",
       " '__imul__',\n",
       " '__init__',\n",
       " '__init_subclass__',\n",
       " '__iter__',\n",
       " '__le__',\n",
       " '__len__',\n",
       " '__lt__',\n",
       " '__mul__',\n",
       " '__ne__',\n",
       " '__new__',\n",
       " '__reduce__',\n",
       " '__reduce_ex__',\n",
       " '__repr__',\n",
       " '__reversed__',\n",
       " '__rmul__',\n",
       " '__setattr__',\n",
       " '__setitem__',\n",
       " '__sizeof__',\n",
       " '__str__',\n",
       " '__subclasshook__',\n",
       " 'append',\n",
       " 'clear',\n",
       " 'copy',\n",
       " 'count',\n",
       " 'extend',\n",
       " 'index',\n",
       " 'insert',\n",
       " 'pop',\n",
       " 'remove',\n",
       " 'reverse',\n",
       " 'sort']"
      ]
     },
     "execution_count": 57,
     "metadata": {},
     "output_type": "execute_result"
    }
   ],
   "source": [
    "dir(list)"
   ]
  },
  {
   "cell_type": "code",
   "execution_count": 58,
   "id": "e57c6a24",
   "metadata": {},
   "outputs": [
    {
     "data": {
      "text/plain": [
       "(1, 2, 3, 'a', 'b', 'c')"
      ]
     },
     "execution_count": 58,
     "metadata": {},
     "output_type": "execute_result"
    }
   ],
   "source": [
    "(1,2,3) + ('a','b','c')"
   ]
  },
  {
   "cell_type": "code",
   "execution_count": 60,
   "id": "4e5de6d9",
   "metadata": {},
   "outputs": [
    {
     "data": {
      "text/plain": [
       "(1, 2, 3, 1, 2, 3, 1, 2, 3, 1, 2, 3)"
      ]
     },
     "execution_count": 60,
     "metadata": {},
     "output_type": "execute_result"
    }
   ],
   "source": [
    "(1,2,3) * 4"
   ]
  },
  {
   "cell_type": "markdown",
   "id": "c95057ac",
   "metadata": {},
   "source": [
    "# Dictionary\n",
    "* start `{` and `}`\n",
    "* item\n",
    "    * `key`:`value`\n",
    "        * key = hashable type = int, str, tuple / replacement of index\n",
    "        * value = any type\n",
    "        * **:** = seprator between key value\n",
    "    * **,** between items"
   ]
  },
  {
   "cell_type": "code",
   "execution_count": 61,
   "id": "580e7420",
   "metadata": {},
   "outputs": [
    {
     "data": {
      "text/plain": [
       "['asif', 'abid', '2222', 111, 'aaaaaaa']"
      ]
     },
     "execution_count": 61,
     "metadata": {},
     "output_type": "execute_result"
    }
   ],
   "source": [
    "#      0=name        1=fathername      2=cnic        3=roll 4=signature\n",
    "['Muhammad Qasim',\"Muhammad Aslam\",'42201-7894567-3',11,'abc']\n",
    "['Muhammad Qasim',\"Muhammad Aslam\",'42201-7894567-3',11,'abc']\n",
    "['asif','abid','2222',111,'aaaaaaa']"
   ]
  },
  {
   "cell_type": "code",
   "execution_count": 64,
   "id": "c98adc63",
   "metadata": {},
   "outputs": [
    {
     "data": {
      "text/plain": [
       "{'name': 'Muhammad Qasim',\n",
       " 'father_name': 'Muhammad Aslam',\n",
       " 'cnic': '42201-7894567-3',\n",
       " 'roll_no': 11,\n",
       " 'signature': 'abc'}"
      ]
     },
     "execution_count": 64,
     "metadata": {},
     "output_type": "execute_result"
    }
   ],
   "source": [
    "data = {\n",
    "    \"name\":\"Muhammad Qasim\",\n",
    "    \"father_name\": \"Muhammad Aslam\",\n",
    "    'cnic': \"42201-7894567-3\",\n",
    "    'roll_no': 11,\n",
    "    'signature' : 'abc'\n",
    "}\n",
    "\n",
    "data"
   ]
  },
  {
   "cell_type": "code",
   "execution_count": 67,
   "id": "ef8466d5",
   "metadata": {},
   "outputs": [
    {
     "data": {
      "text/plain": [
       "11"
      ]
     },
     "execution_count": 67,
     "metadata": {},
     "output_type": "execute_result"
    }
   ],
   "source": [
    "data = {\n",
    "    \"name\":\"Muhammad Qasim\",\n",
    "    \"father_name\": \"Muhammad Aslam\",\n",
    "    'cnic': \"42201-7894567-3\",\n",
    "    'roll_no': 11,\n",
    "    'signature' : 'abc'\n",
    "}\n",
    "\n",
    "data[\"roll_no\"]"
   ]
  },
  {
   "cell_type": "code",
   "execution_count": 70,
   "id": "913b509f",
   "metadata": {},
   "outputs": [
    {
     "data": {
      "text/plain": [
       "'pakistan'"
      ]
     },
     "execution_count": 70,
     "metadata": {},
     "output_type": "execute_result"
    }
   ],
   "source": [
    "data = {\n",
    "    \"name\":\"Muhammad Qasim\",\n",
    "    \"father_name\": \"Muhammad Aslam\",\n",
    "    'cnic': \"42201-7894567-3\",\n",
    "    'roll_no': 11,\n",
    "    'signature' : 'abc',\n",
    "    100 : 'pakistan'\n",
    "}\n",
    "\n",
    "data[100]\n"
   ]
  },
  {
   "cell_type": "code",
   "execution_count": 75,
   "id": "beb1648c",
   "metadata": {},
   "outputs": [
    {
     "data": {
      "text/plain": [
       "'pakistan'"
      ]
     },
     "execution_count": 75,
     "metadata": {},
     "output_type": "execute_result"
    }
   ],
   "source": [
    "data = {\n",
    "    \"name\":\"Muhammad Qasim\",\n",
    "    \"father_name\": \"Muhammad Aslam\",\n",
    "    'cnic': \"42201-7894567-3\",\n",
    "    'roll_no': 11,\n",
    "    'signature' : 'abc',\n",
    "    ('aaa'): 'pakistan'\n",
    "}\n",
    "\n",
    "data[('aaa')]\n"
   ]
  },
  {
   "cell_type": "code",
   "execution_count": 77,
   "id": "2c41b59d",
   "metadata": {},
   "outputs": [
    {
     "data": {
      "text/plain": [
       "{'name': 'Muhammad Qasim',\n",
       " 'father_name': 'Muhammad Aslam',\n",
       " 'cnic': '42201-7894567-3',\n",
       " 'roll_no': 11,\n",
       " 'signature': 'abc',\n",
       " 'skills': ['python', 'R', 'java', 'typescript']}"
      ]
     },
     "execution_count": 77,
     "metadata": {},
     "output_type": "execute_result"
    }
   ],
   "source": [
    "data = {\n",
    "    \"name\":\"Muhammad Qasim\",\n",
    "    \"father_name\": \"Muhammad Aslam\",\n",
    "    'cnic': \"42201-7894567-3\",\n",
    "    'roll_no': 11,\n",
    "    'signature' : 'abc',\n",
    "    'skills': ['python','R','java', 'typescript']\n",
    "}\n",
    "\n",
    "data"
   ]
  },
  {
   "cell_type": "code",
   "execution_count": null,
   "id": "890fd9d6",
   "metadata": {},
   "outputs": [],
   "source": []
  },
  {
   "cell_type": "code",
   "execution_count": null,
   "id": "84b77307",
   "metadata": {},
   "outputs": [],
   "source": []
  },
  {
   "cell_type": "code",
   "execution_count": 68,
   "id": "24ff2094",
   "metadata": {},
   "outputs": [
    {
     "data": {
      "text/plain": [
       "['__class__',\n",
       " '__class_getitem__',\n",
       " '__contains__',\n",
       " '__delattr__',\n",
       " '__delitem__',\n",
       " '__dir__',\n",
       " '__doc__',\n",
       " '__eq__',\n",
       " '__format__',\n",
       " '__ge__',\n",
       " '__getattribute__',\n",
       " '__getitem__',\n",
       " '__gt__',\n",
       " '__hash__',\n",
       " '__init__',\n",
       " '__init_subclass__',\n",
       " '__ior__',\n",
       " '__iter__',\n",
       " '__le__',\n",
       " '__len__',\n",
       " '__lt__',\n",
       " '__ne__',\n",
       " '__new__',\n",
       " '__or__',\n",
       " '__reduce__',\n",
       " '__reduce_ex__',\n",
       " '__repr__',\n",
       " '__reversed__',\n",
       " '__ror__',\n",
       " '__setattr__',\n",
       " '__setitem__',\n",
       " '__sizeof__',\n",
       " '__str__',\n",
       " '__subclasshook__',\n",
       " 'clear',\n",
       " 'copy',\n",
       " 'fromkeys',\n",
       " 'get',\n",
       " 'items',\n",
       " 'keys',\n",
       " 'pop',\n",
       " 'popitem',\n",
       " 'setdefault',\n",
       " 'update',\n",
       " 'values']"
      ]
     },
     "execution_count": 68,
     "metadata": {},
     "output_type": "execute_result"
    }
   ],
   "source": [
    "dir(dict)"
   ]
  },
  {
   "cell_type": "markdown",
   "id": "cb3189ee",
   "metadata": {},
   "source": [
    "# create new dictionary"
   ]
  },
  {
   "cell_type": "code",
   "execution_count": 84,
   "id": "b98f3708",
   "metadata": {},
   "outputs": [
    {
     "ename": "KeyError",
     "evalue": "'name'",
     "output_type": "error",
     "traceback": [
      "\u001b[1;31m---------------------------------------------------------------------------\u001b[0m",
      "\u001b[1;31mKeyError\u001b[0m                                  Traceback (most recent call last)",
      "\u001b[1;32m~\\AppData\\Local\\Temp\\ipykernel_19544\\993777187.py\u001b[0m in \u001b[0;36m<module>\u001b[1;34m\u001b[0m\n\u001b[0;32m      1\u001b[0m \u001b[0mdata\u001b[0m \u001b[1;33m=\u001b[0m \u001b[1;33m{\u001b[0m\u001b[1;33m}\u001b[0m \u001b[1;31m#empty dictionary\u001b[0m\u001b[1;33m\u001b[0m\u001b[1;33m\u001b[0m\u001b[0m\n\u001b[0;32m      2\u001b[0m \u001b[1;33m\u001b[0m\u001b[0m\n\u001b[1;32m----> 3\u001b[1;33m \u001b[0mdata\u001b[0m\u001b[1;33m[\u001b[0m\u001b[1;34m'name'\u001b[0m\u001b[1;33m]\u001b[0m\u001b[1;33m\u001b[0m\u001b[1;33m\u001b[0m\u001b[0m\n\u001b[0m\u001b[0;32m      4\u001b[0m \u001b[1;33m\u001b[0m\u001b[0m\n\u001b[0;32m      5\u001b[0m \u001b[0mprint\u001b[0m\u001b[1;33m(\u001b[0m\u001b[0mdata\u001b[0m\u001b[1;33m,\u001b[0m \u001b[0mtype\u001b[0m\u001b[1;33m(\u001b[0m\u001b[0mdata\u001b[0m\u001b[1;33m)\u001b[0m\u001b[1;33m)\u001b[0m\u001b[1;33m\u001b[0m\u001b[1;33m\u001b[0m\u001b[0m\n",
      "\u001b[1;31mKeyError\u001b[0m: 'name'"
     ]
    }
   ],
   "source": [
    "data = {} #empty dictionary\n",
    "\n",
    "data['name']\n",
    "\n",
    "print(data, type(data))"
   ]
  },
  {
   "cell_type": "code",
   "execution_count": 86,
   "id": "6df36794",
   "metadata": {},
   "outputs": [
    {
     "name": "stdout",
     "output_type": "stream",
     "text": [
      "{'name': 'Muhammad Qasim', 'father_name': 'Muhammad Aslam'} <class 'dict'>\n"
     ]
    }
   ],
   "source": [
    "data = {} #empty dictionary\n",
    "\n",
    "data['name'] = \"Muhammad Qasim\"\n",
    "data['father_name'] = \"Muhammad Aslam\"\n",
    "\n",
    "print(data, type(data))"
   ]
  },
  {
   "cell_type": "code",
   "execution_count": 87,
   "id": "a7074fd7",
   "metadata": {},
   "outputs": [
    {
     "ename": "KeyError",
     "evalue": "'roll_name'",
     "output_type": "error",
     "traceback": [
      "\u001b[1;31m---------------------------------------------------------------------------\u001b[0m",
      "\u001b[1;31mKeyError\u001b[0m                                  Traceback (most recent call last)",
      "\u001b[1;32m~\\AppData\\Local\\Temp\\ipykernel_19544\\46003418.py\u001b[0m in \u001b[0;36m<module>\u001b[1;34m\u001b[0m\n\u001b[0;32m      5\u001b[0m \u001b[1;33m\u001b[0m\u001b[0m\n\u001b[0;32m      6\u001b[0m \u001b[1;33m\u001b[0m\u001b[0m\n\u001b[1;32m----> 7\u001b[1;33m \u001b[0mprint\u001b[0m\u001b[1;33m(\u001b[0m\u001b[0mdata\u001b[0m\u001b[1;33m[\u001b[0m\u001b[1;34m'roll_name'\u001b[0m\u001b[1;33m]\u001b[0m\u001b[1;33m)\u001b[0m\u001b[1;33m\u001b[0m\u001b[1;33m\u001b[0m\u001b[0m\n\u001b[0m",
      "\u001b[1;31mKeyError\u001b[0m: 'roll_name'"
     ]
    }
   ],
   "source": [
    "data = {} #empty dictionary\n",
    "\n",
    "data['name'] = \"Muhammad Qasim\"\n",
    "data['father_name'] = \"Muhammad Aslam\"\n",
    "\n",
    "\n",
    "print(data['roll_name'])"
   ]
  },
  {
   "cell_type": "code",
   "execution_count": 88,
   "id": "29ebf558",
   "metadata": {},
   "outputs": [
    {
     "name": "stdout",
     "output_type": "stream",
     "text": [
      "line1\n",
      "line2\n"
     ]
    },
    {
     "ename": "KeyError",
     "evalue": "'roll_number'",
     "output_type": "error",
     "traceback": [
      "\u001b[1;31m---------------------------------------------------------------------------\u001b[0m",
      "\u001b[1;31mKeyError\u001b[0m                                  Traceback (most recent call last)",
      "\u001b[1;32m~\\AppData\\Local\\Temp\\ipykernel_19544\\1375732323.py\u001b[0m in \u001b[0;36m<module>\u001b[1;34m\u001b[0m\n\u001b[0;32m      2\u001b[0m \u001b[0mprint\u001b[0m\u001b[1;33m(\u001b[0m\u001b[1;34m\"line2\"\u001b[0m\u001b[1;33m)\u001b[0m\u001b[1;33m\u001b[0m\u001b[1;33m\u001b[0m\u001b[0m\n\u001b[0;32m      3\u001b[0m \u001b[1;33m\u001b[0m\u001b[0m\n\u001b[1;32m----> 4\u001b[1;33m \u001b[0mdata\u001b[0m\u001b[1;33m[\u001b[0m\u001b[1;34m'roll_number'\u001b[0m\u001b[1;33m]\u001b[0m\u001b[1;33m\u001b[0m\u001b[1;33m\u001b[0m\u001b[0m\n\u001b[0m\u001b[0;32m      5\u001b[0m \u001b[1;33m\u001b[0m\u001b[0m\n\u001b[0;32m      6\u001b[0m \u001b[0mprint\u001b[0m\u001b[1;33m(\u001b[0m\u001b[1;34m'line3'\u001b[0m\u001b[1;33m)\u001b[0m\u001b[1;33m\u001b[0m\u001b[1;33m\u001b[0m\u001b[0m\n",
      "\u001b[1;31mKeyError\u001b[0m: 'roll_number'"
     ]
    }
   ],
   "source": [
    "print(\"line1\")\n",
    "print(\"line2\")\n",
    "\n",
    "data['roll_number']\n",
    "\n",
    "print('line3')\n",
    "print('line4')"
   ]
  },
  {
   "cell_type": "code",
   "execution_count": 96,
   "id": "7cf651e7",
   "metadata": {},
   "outputs": [
    {
     "name": "stdout",
     "output_type": "stream",
     "text": [
      "Muhammad Qasim\n",
      "None\n",
      "not available\n"
     ]
    }
   ],
   "source": [
    "data = {} #empty dictionary\n",
    "\n",
    "data['name'] = \"Muhammad Qasim\"\n",
    "data['father_name'] = \"Muhammad Aslam\"\n",
    "\n",
    "\n",
    "print(data.get('name'))\n",
    "print(data.get(\"roll_number\"))\n",
    "print(data.get('roll_number','not available'))"
   ]
  },
  {
   "cell_type": "code",
   "execution_count": 99,
   "id": "31c6b775",
   "metadata": {},
   "outputs": [
    {
     "name": "stdout",
     "output_type": "stream",
     "text": [
      "line1\n",
      "line2\n",
      "Not available\n",
      "line3\n",
      "line4\n"
     ]
    }
   ],
   "source": [
    "print(\"line1\")\n",
    "print(\"line2\")\n",
    "\n",
    "print(data.get('roll_number',\"Not available\"))\n",
    "\n",
    "print('line3')\n",
    "print('line4')"
   ]
  },
  {
   "cell_type": "code",
   "execution_count": 100,
   "id": "14841395",
   "metadata": {},
   "outputs": [
    {
     "data": {
      "text/plain": [
       "{'name': None, 'id': None, 'father_name': None, 'cnic': None}"
      ]
     },
     "execution_count": 100,
     "metadata": {},
     "output_type": "execute_result"
    }
   ],
   "source": [
    "dict.fromkeys(['name','id','father_name','cnic'])"
   ]
  },
  {
   "cell_type": "code",
   "execution_count": 93,
   "id": "c2ae671f",
   "metadata": {},
   "outputs": [
    {
     "data": {
      "text/plain": [
       "4032000"
      ]
     },
     "execution_count": 93,
     "metadata": {},
     "output_type": "execute_result"
    }
   ],
   "source": [
    "200 * 14 * 60 *24"
   ]
  },
  {
   "cell_type": "code",
   "execution_count": 101,
   "id": "5792399d",
   "metadata": {},
   "outputs": [
    {
     "data": {
      "text/plain": [
       "{'name': 'Muhammad Qasim', 'father_name': 'Muhammad Aslam'}"
      ]
     },
     "execution_count": 101,
     "metadata": {},
     "output_type": "execute_result"
    }
   ],
   "source": [
    "data"
   ]
  },
  {
   "cell_type": "code",
   "execution_count": 102,
   "id": "7eee169c",
   "metadata": {},
   "outputs": [
    {
     "data": {
      "text/plain": [
       "dict_keys(['name', 'father_name', 'cnic', 'roll_no', 'signature'])"
      ]
     },
     "execution_count": 102,
     "metadata": {},
     "output_type": "execute_result"
    }
   ],
   "source": [
    "data = {\n",
    "    \"name\":\"Muhammad Qasim\",\n",
    "    \"father_name\": \"Muhammad Aslam\",\n",
    "    'cnic': \"42201-7894567-3\",\n",
    "    'roll_no': 11,\n",
    "    'signature' : 'abc',\n",
    "}\n",
    "\n",
    "data.keys()"
   ]
  },
  {
   "cell_type": "code",
   "execution_count": 103,
   "id": "82172c06",
   "metadata": {},
   "outputs": [
    {
     "data": {
      "text/plain": [
       "dict_values(['Muhammad Qasim', 'Muhammad Aslam', '42201-7894567-3', 11, 'abc'])"
      ]
     },
     "execution_count": 103,
     "metadata": {},
     "output_type": "execute_result"
    }
   ],
   "source": [
    "data.values()"
   ]
  },
  {
   "cell_type": "code",
   "execution_count": 104,
   "id": "dc61acb4",
   "metadata": {},
   "outputs": [
    {
     "data": {
      "text/plain": [
       "dict_items([('name', 'Muhammad Qasim'), ('father_name', 'Muhammad Aslam'), ('cnic', '42201-7894567-3'), ('roll_no', 11), ('signature', 'abc')])"
      ]
     },
     "execution_count": 104,
     "metadata": {},
     "output_type": "execute_result"
    }
   ],
   "source": [
    "data.items()"
   ]
  },
  {
   "cell_type": "code",
   "execution_count": 105,
   "id": "7fdd6dba",
   "metadata": {},
   "outputs": [
    {
     "name": "stdout",
     "output_type": "stream",
     "text": [
      "aa\n",
      "bb\n"
     ]
    }
   ],
   "source": [
    "a,b = ('aa','bb') # unpack/unzip\n",
    "\n",
    "print(a)\n",
    "print(b)"
   ]
  },
  {
   "cell_type": "code",
   "execution_count": 107,
   "id": "521b4a0e",
   "metadata": {},
   "outputs": [
    {
     "name": "stdout",
     "output_type": "stream",
     "text": [
      "name\n",
      "father_name\n",
      "cnic\n",
      "roll_no\n",
      "signature\n"
     ]
    }
   ],
   "source": [
    "data = {\n",
    "    \"name\":\"Muhammad Qasim\",\n",
    "    \"father_name\": \"Muhammad Aslam\",\n",
    "    'cnic': \"42201-7894567-3\",\n",
    "    'roll_no': 11,\n",
    "    'signature' : 'abc',\n",
    "}\n",
    "\n",
    "for k in data.keys():\n",
    "    print(k)\n",
    "    "
   ]
  },
  {
   "cell_type": "code",
   "execution_count": 111,
   "id": "9d444dc1",
   "metadata": {},
   "outputs": [
    {
     "name": "stdout",
     "output_type": "stream",
     "text": [
      "name --> Muhammad Qasim\n",
      "father_name --> Muhammad Aslam\n",
      "cnic --> 42201-7894567-3\n",
      "roll_no --> 11\n",
      "signature --> abc\n"
     ]
    }
   ],
   "source": [
    "data = {\n",
    "    \"name\":\"Muhammad Qasim\",\n",
    "    \"father_name\": \"Muhammad Aslam\",\n",
    "    'cnic': \"42201-7894567-3\",\n",
    "    'roll_no': 11,\n",
    "    'signature' : 'abc',\n",
    "}\n",
    "\n",
    "for k in data.keys():\n",
    "    print(k, \"-->\", data[k])\n",
    "    "
   ]
  },
  {
   "cell_type": "code",
   "execution_count": 112,
   "id": "03818ccf",
   "metadata": {},
   "outputs": [
    {
     "name": "stdout",
     "output_type": "stream",
     "text": [
      "name Muhammad Qasim\n",
      "father_name Muhammad Aslam\n",
      "cnic 42201-7894567-3\n",
      "roll_no 11\n",
      "signature abc\n"
     ]
    }
   ],
   "source": [
    "for k,v in data.items():\n",
    "    print(k, v)"
   ]
  },
  {
   "cell_type": "code",
   "execution_count": 113,
   "id": "f7f26350",
   "metadata": {},
   "outputs": [
    {
     "data": {
      "text/plain": [
       "dict_items([('name', 'Muhammad Qasim'), ('father_name', 'Muhammad Aslam'), ('cnic', '42201-7894567-3'), ('roll_no', 11), ('signature', 'abc')])"
      ]
     },
     "execution_count": 113,
     "metadata": {},
     "output_type": "execute_result"
    }
   ],
   "source": [
    "data.items()"
   ]
  },
  {
   "cell_type": "code",
   "execution_count": 114,
   "id": "38848c62",
   "metadata": {},
   "outputs": [
    {
     "data": {
      "text/plain": [
       "{'a': 3, 'b': 2, 'c': 1}"
      ]
     },
     "execution_count": 114,
     "metadata": {},
     "output_type": "execute_result"
    }
   ],
   "source": [
    "data = {\n",
    "    \"a\":3,\n",
    "    \"b\":2,\n",
    "    \"c\":1\n",
    "}\n",
    "\n",
    "data"
   ]
  },
  {
   "cell_type": "code",
   "execution_count": 115,
   "id": "655f46a2",
   "metadata": {},
   "outputs": [
    {
     "name": "stdout",
     "output_type": "stream",
     "text": [
      "a\n",
      "b\n",
      "c\n"
     ]
    }
   ],
   "source": [
    "for d in data:\n",
    "    print(d)"
   ]
  },
  {
   "cell_type": "code",
   "execution_count": null,
   "id": "f9d8199c",
   "metadata": {},
   "outputs": [],
   "source": []
  }
 ],
 "metadata": {
  "kernelspec": {
   "display_name": "Python 3 (ipykernel)",
   "language": "python",
   "name": "python3"
  },
  "language_info": {
   "codemirror_mode": {
    "name": "ipython",
    "version": 3
   },
   "file_extension": ".py",
   "mimetype": "text/x-python",
   "name": "python",
   "nbconvert_exporter": "python",
   "pygments_lexer": "ipython3",
   "version": "3.9.13"
  }
 },
 "nbformat": 4,
 "nbformat_minor": 5
}
