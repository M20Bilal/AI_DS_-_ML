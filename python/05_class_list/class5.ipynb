{
 "cells": [
  {
   "cell_type": "markdown",
   "id": "add7d4a7",
   "metadata": {},
   "source": [
    "# List Data type\n",
    "* start with `[` and end with `]`\n",
    "* value/item `store any data type`\n",
    "* seprator between two items `,`\n",
    "* indexing\n",
    "    * positive indexing `-->` lef to right always start **Zero**\n",
    "    * negative/reverse indexing `<--` right to lef always start **-1**\n",
    "* extract value from list with index value `variable_name[index_num]`\n",
    "\n",
    "## Slicing\n",
    "* `variable[start:end:step]` all parameters are numbers\n",
    "    * **start** include\n",
    "    * **end** exclude (end-1)\n",
    "    * **step** sequance (--> 1)"
   ]
  },
  {
   "cell_type": "code",
   "execution_count": 1,
   "id": "b65ecc45",
   "metadata": {},
   "outputs": [],
   "source": [
    "stdid1 = 1\n",
    "stdname1 = \"Ali\"\n",
    "stdfname1 = \"Hamza\"\n",
    "\n",
    "stdid2 = 2\n",
    "stdname2 = \"Kashif\"\n",
    "stdfname2 = \"Asif\""
   ]
  },
  {
   "cell_type": "code",
   "execution_count": 2,
   "id": "d67f40ce",
   "metadata": {},
   "outputs": [
    {
     "name": "stdout",
     "output_type": "stream",
     "text": [
      "['Asif', 'Kashif', 'Hamza', 1000, 2000, 3000, True]\n"
     ]
    }
   ],
   "source": [
    "names = ['Asif',\"Kashif\",'Hamza',1000,2000,3000,True]\n",
    "print(names)"
   ]
  },
  {
   "cell_type": "code",
   "execution_count": 3,
   "id": "c0e0a5f4",
   "metadata": {},
   "outputs": [
    {
     "name": "stdout",
     "output_type": "stream",
     "text": [
      "['Asif', 'Kashif', 'Hamza', 1000, 2000, 3000, True]\n"
     ]
    }
   ],
   "source": [
    "# --->      0      1        2     3     4   5    6\n",
    "names = ['Asif',\"Kashif\",'Hamza',1000,2000,3000,True]\n",
    "# <---     -7     -6       -5     -4   -3   -2   -1\n",
    "print(names)"
   ]
  },
  {
   "cell_type": "code",
   "execution_count": 6,
   "id": "5655f2f2",
   "metadata": {},
   "outputs": [
    {
     "name": "stdout",
     "output_type": "stream",
     "text": [
      "Hamza\n",
      "Hamza\n",
      "2000 2000\n"
     ]
    }
   ],
   "source": [
    "# --->      0      1        2     3     4   5    6\n",
    "names = ['Asif',\"Kashif\",'Hamza',1000,2000,3000,True]\n",
    "# <---     -7     -6       -5     -4   -3   -2   -1\n",
    "\n",
    "print(names[2])\n",
    "print(names[-5])\n",
    "print(names[4], names[-3])"
   ]
  },
  {
   "cell_type": "code",
   "execution_count": 10,
   "id": "bdfbd6bf",
   "metadata": {},
   "outputs": [
    {
     "name": "stdout",
     "output_type": "stream",
     "text": [
      "3000\n",
      "3000\n",
      "1000 1000\n"
     ]
    }
   ],
   "source": [
    "names = ['Asif',\"Kashif\",'Hamza',1000,2000,3000,True]\n",
    "print(names[-2])\n",
    "print(names[5])\n",
    "\n",
    "print(names[3], names[-4])"
   ]
  },
  {
   "cell_type": "markdown",
   "id": "b2a3b4ab",
   "metadata": {},
   "source": [
    "# old programming code style for pinting all array values"
   ]
  },
  {
   "cell_type": "code",
   "execution_count": 13,
   "id": "04c22504",
   "metadata": {},
   "outputs": [
    {
     "name": "stdout",
     "output_type": "stream",
     "text": [
      "Asif\n",
      "Kashif\n",
      "Hamza\n",
      "1000\n",
      "2000\n",
      "3000\n",
      "True\n"
     ]
    }
   ],
   "source": [
    "names = ['Asif',\"Kashif\",'Hamza',1000,2000,3000,True]\n",
    "\n",
    "counter = 0\n",
    "while counter < len(names):\n",
    "    print(names[counter])\n",
    "    counter += 1"
   ]
  },
  {
   "cell_type": "code",
   "execution_count": 15,
   "id": "c63e7088",
   "metadata": {},
   "outputs": [
    {
     "name": "stdout",
     "output_type": "stream",
     "text": [
      "Kashif\n",
      "Hamza\n",
      "1000\n",
      "2000\n"
     ]
    }
   ],
   "source": [
    "names = ['Asif',\"Kashif\",'Hamza',1000,2000,3000,True]\n",
    "\n",
    "counter = 1\n",
    "while counter < 5:\n",
    "    print(names[counter])\n",
    "    counter += 1"
   ]
  },
  {
   "cell_type": "markdown",
   "id": "89cd4ae5",
   "metadata": {},
   "source": [
    "# Now print with pythonic style"
   ]
  },
  {
   "cell_type": "code",
   "execution_count": 14,
   "id": "38e4fc82",
   "metadata": {},
   "outputs": [
    {
     "name": "stdout",
     "output_type": "stream",
     "text": [
      "Asif\n",
      "Kashif\n",
      "Hamza\n",
      "1000\n",
      "2000\n",
      "3000\n",
      "True\n"
     ]
    }
   ],
   "source": [
    "names = ['Asif',\"Kashif\",'Hamza',1000,2000,3000,True]\n",
    "\n",
    "for name in names:\n",
    "    print(name)"
   ]
  },
  {
   "cell_type": "markdown",
   "id": "cef65dab",
   "metadata": {},
   "source": [
    "# Slicing"
   ]
  },
  {
   "cell_type": "code",
   "execution_count": 17,
   "id": "5436b396",
   "metadata": {},
   "outputs": [
    {
     "name": "stdout",
     "output_type": "stream",
     "text": [
      "['Kashif', 'Hamza', 1000, 2000, 3000]\n",
      "['Kashif', 'Hamza', 1000, 2000, 3000]\n"
     ]
    }
   ],
   "source": [
    "# --->      0      1        2     3     4   5    6\n",
    "names = ['Asif',\"Kashif\",'Hamza',1000,2000,3000,True]\n",
    "# <---     -7     -6       -5     -4   -3   -2   -1\n",
    "\n",
    "\n",
    "print(names[1:6])\n",
    "print(names[1:6:1])"
   ]
  },
  {
   "cell_type": "code",
   "execution_count": 20,
   "id": "6b6d1c82",
   "metadata": {},
   "outputs": [
    {
     "name": "stdout",
     "output_type": "stream",
     "text": [
      "['Asif', 'Kashif', 'Hamza', 1000, 2000, 3000, True]\n",
      "['Asif', 'Hamza', 2000, True]\n",
      "['Asif', 1000, True]\n"
     ]
    }
   ],
   "source": [
    "# --->      0      1        2     3     4   5    6\n",
    "names = ['Asif',\"Kashif\",'Hamza',1000,2000,3000,True]\n",
    "# <---     -7     -6       -5     -4   -3   -2   -1\n",
    "\n",
    "print(names[::1])\n",
    "print(names[::2])\n",
    "print(names[::3])\n",
    "\n",
    "\n"
   ]
  },
  {
   "cell_type": "code",
   "execution_count": 21,
   "id": "175bfd9f",
   "metadata": {},
   "outputs": [
    {
     "name": "stdout",
     "output_type": "stream",
     "text": [
      "[True, 3000, 2000, 1000, 'Hamza', 'Kashif', 'Asif']\n"
     ]
    }
   ],
   "source": [
    "# --->      0      1        2     3     4   5    6\n",
    "names = ['Asif',\"Kashif\",'Hamza',1000,2000,3000,True]\n",
    "# <---     -7     -6       -5     -4   -3   -2   -1\n",
    "\n",
    "print(names[::-1])"
   ]
  },
  {
   "cell_type": "code",
   "execution_count": 26,
   "id": "8da7751e",
   "metadata": {},
   "outputs": [
    {
     "name": "stdout",
     "output_type": "stream",
     "text": [
      "[]\n",
      "[2000, 1000, 'Hamza', 'Kashif']\n",
      "['Asif', 'Kashif', 'Hamza', 1000]\n",
      "[3000, 2000, 1000, 'Hamza', 'Kashif']\n",
      "[3000, 2000, 1000, 'Hamza', 'Kashif']\n"
     ]
    }
   ],
   "source": [
    "# --->      0      1        2     3     4   5    6\n",
    "names = ['Asif',\"Kashif\",'Hamza',1000,2000,3000,True]\n",
    "# <---     -7     -6       -5     -4   -3   -2   -1\n",
    "\n",
    "print(names[4:-7])\n",
    "print(names[4:-7:-1])\n",
    "print(names[-7:4])\n",
    "\n",
    "print(names[5:-7:-1])\n",
    "print(names[5:0:-1])"
   ]
  },
  {
   "cell_type": "code",
   "execution_count": 32,
   "id": "710501e4",
   "metadata": {},
   "outputs": [
    {
     "name": "stdout",
     "output_type": "stream",
     "text": [
      "[3000, True, 'pakistan']\n",
      "['Asif', 'Kashif', 'Hamza']\n",
      "['Asif', 'Kashif', 'Hamza']\n",
      "['Asif', 'Kashif', 'Hamza']\n",
      "['Asif', 'Kashif', 'Hamza']\n"
     ]
    }
   ],
   "source": [
    "# --->      0      1        2     3     4   5    6\n",
    "names = ['Asif',\"Kashif\",'Hamza',1000,2000,3000,True,'pakistan']\n",
    "# <---     -7     -6       -5     -4   -3   -2   -1\n",
    "\n",
    "print(names[-3:])\n",
    "print(names[0:3])\n",
    "print(names[:3])\n",
    "print(names[0:3:1])\n",
    "print(names[:3:1])"
   ]
  },
  {
   "cell_type": "markdown",
   "id": "56b54013",
   "metadata": {},
   "source": [
    "# apply operators on list data type"
   ]
  },
  {
   "cell_type": "code",
   "execution_count": 34,
   "id": "79fd1990",
   "metadata": {},
   "outputs": [
    {
     "data": {
      "text/plain": [
       "['pakistan', 1000, 2000, 'abc', 'xyz']"
      ]
     },
     "execution_count": 34,
     "metadata": {},
     "output_type": "execute_result"
    }
   ],
   "source": [
    "l1 = ['pakistan',1000,2000]\n",
    "l2 = ['abc','xyz']\n",
    "\n",
    "l1 + l2"
   ]
  },
  {
   "cell_type": "code",
   "execution_count": 35,
   "id": "31b9771c",
   "metadata": {},
   "outputs": [
    {
     "data": {
      "text/plain": [
       "['pakistan', 1000, 2000, 'pakistan', 1000, 2000, 'pakistan', 1000, 2000]"
      ]
     },
     "execution_count": 35,
     "metadata": {},
     "output_type": "execute_result"
    }
   ],
   "source": [
    "l1 * 3"
   ]
  },
  {
   "cell_type": "code",
   "execution_count": 36,
   "id": "c46d3b23",
   "metadata": {},
   "outputs": [
    {
     "data": {
      "text/plain": [
       "' pakistan pakistan pakistan'"
      ]
     },
     "execution_count": 36,
     "metadata": {},
     "output_type": "execute_result"
    }
   ],
   "source": [
    "\" pakistan\" * 3 "
   ]
  },
  {
   "cell_type": "markdown",
   "id": "1426dd61",
   "metadata": {},
   "source": [
    "# list data type methods"
   ]
  },
  {
   "cell_type": "code",
   "execution_count": 43,
   "id": "2ef0d7db",
   "metadata": {},
   "outputs": [
    {
     "data": {
      "text/plain": [
       "['append',\n",
       " 'clear',\n",
       " 'copy',\n",
       " 'count',\n",
       " 'extend',\n",
       " 'index',\n",
       " 'insert',\n",
       " 'pop',\n",
       " 'remove',\n",
       " 'reverse',\n",
       " 'sort']"
      ]
     },
     "execution_count": 43,
     "metadata": {},
     "output_type": "execute_result"
    }
   ],
   "source": [
    "[i for i in dir(list) if \"__\" not in i]"
   ]
  },
  {
   "cell_type": "markdown",
   "id": "8f1dcec0",
   "metadata": {},
   "source": [
    "# append -> append value as a item"
   ]
  },
  {
   "cell_type": "code",
   "execution_count": 48,
   "id": "12d3f9ec",
   "metadata": {},
   "outputs": [
    {
     "name": "stdout",
     "output_type": "stream",
     "text": [
      "['Asif', 'Hamza', 'Kashif', [1, 2, 3]]\n"
     ]
    }
   ],
   "source": [
    "names = []\n",
    "\n",
    "names.append(\"Asif\")\n",
    "names.append(\"Hamza\")\n",
    "names.append(\"Kashif\")\n",
    "names.append([1,2,3])\n",
    "\n",
    "print(names)"
   ]
  },
  {
   "cell_type": "code",
   "execution_count": 51,
   "id": "f2489057",
   "metadata": {},
   "outputs": [
    {
     "data": {
      "text/plain": [
       "[1, 2, 3]"
      ]
     },
     "execution_count": 51,
     "metadata": {},
     "output_type": "execute_result"
    }
   ],
   "source": [
    "names[-1]"
   ]
  },
  {
   "cell_type": "code",
   "execution_count": 54,
   "id": "eb7d7202",
   "metadata": {},
   "outputs": [
    {
     "name": "stdout",
     "output_type": "stream",
     "text": [
      "['pakistan', 1000, 2000]\n"
     ]
    },
    {
     "ename": "NameError",
     "evalue": "name 'l1' is not defined",
     "output_type": "error",
     "traceback": [
      "\u001b[1;31m---------------------------------------------------------------------------\u001b[0m",
      "\u001b[1;31mNameError\u001b[0m                                 Traceback (most recent call last)",
      "\u001b[1;32m~\\AppData\\Local\\Temp\\ipykernel_14848\\1144491815.py\u001b[0m in \u001b[0;36m<module>\u001b[1;34m\u001b[0m\n\u001b[0;32m      4\u001b[0m \u001b[1;32mdel\u001b[0m \u001b[0ml1\u001b[0m\u001b[1;33m\u001b[0m\u001b[1;33m\u001b[0m\u001b[0m\n\u001b[0;32m      5\u001b[0m \u001b[1;33m\u001b[0m\u001b[0m\n\u001b[1;32m----> 6\u001b[1;33m \u001b[0mprint\u001b[0m\u001b[1;33m(\u001b[0m\u001b[0ml1\u001b[0m\u001b[1;33m)\u001b[0m\u001b[1;33m\u001b[0m\u001b[1;33m\u001b[0m\u001b[0m\n\u001b[0m",
      "\u001b[1;31mNameError\u001b[0m: name 'l1' is not defined"
     ]
    }
   ],
   "source": [
    "l1 = ['pakistan',1000,2000]\n",
    "\n",
    "print(l1)\n",
    "del l1\n",
    "\n",
    "print(l1)"
   ]
  },
  {
   "cell_type": "code",
   "execution_count": 53,
   "id": "29e09ad7",
   "metadata": {},
   "outputs": [
    {
     "name": "stdout",
     "output_type": "stream",
     "text": [
      "['pakistan', 1000, 2000]\n",
      "[]\n"
     ]
    }
   ],
   "source": [
    "l1 = ['pakistan',1000,2000]\n",
    "\n",
    "print(l1)\n",
    "l1.clear()\n",
    "\n",
    "print(l1)"
   ]
  },
  {
   "cell_type": "code",
   "execution_count": 55,
   "id": "024692a4",
   "metadata": {},
   "outputs": [
    {
     "name": "stdout",
     "output_type": "stream",
     "text": [
      "['pakistan', 1000, 2000]\n",
      "['pakistan', 1000, 2000]\n"
     ]
    }
   ],
   "source": [
    "l1 = ['pakistan',1000,2000]\n",
    "l2 = l1\n",
    "\n",
    "print(l1)\n",
    "print(l2)"
   ]
  },
  {
   "cell_type": "code",
   "execution_count": 56,
   "id": "f0ab4c42",
   "metadata": {},
   "outputs": [
    {
     "name": "stdout",
     "output_type": "stream",
     "text": [
      "['pakistan', 7000, 2000]\n",
      "['pakistan', 7000, 2000]\n"
     ]
    }
   ],
   "source": [
    "l1 = ['pakistan',1000,2000]\n",
    "l2 = l1\n",
    "\n",
    "l2[1] = 7000\n",
    "\n",
    "print(l1)\n",
    "print(l2)"
   ]
  },
  {
   "cell_type": "code",
   "execution_count": 57,
   "id": "34cba11b",
   "metadata": {},
   "outputs": [
    {
     "name": "stdout",
     "output_type": "stream",
     "text": [
      "['pakistan', 1000, 2000]\n",
      "['pakistan', 7000, 2000]\n"
     ]
    }
   ],
   "source": [
    "l1 = ['pakistan',1000,2000]\n",
    "l2 = l1.copy()\n",
    "\n",
    "l2[1] = 7000\n",
    "\n",
    "print(l1)\n",
    "print(l2)"
   ]
  },
  {
   "cell_type": "code",
   "execution_count": 58,
   "id": "9f90fc2c",
   "metadata": {},
   "outputs": [
    {
     "data": {
      "text/plain": [
       "2"
      ]
     },
     "execution_count": 58,
     "metadata": {},
     "output_type": "execute_result"
    }
   ],
   "source": [
    "l1 = ['a','b','c','a','x','y','z']\n",
    "\n",
    "l1.count('a')"
   ]
  },
  {
   "cell_type": "code",
   "execution_count": 59,
   "id": "e037a276",
   "metadata": {},
   "outputs": [
    {
     "name": "stdout",
     "output_type": "stream",
     "text": [
      "['Asif', 'Hamza', 'Kashif', [1, 2, 3]]\n"
     ]
    }
   ],
   "source": [
    "names = []\n",
    "\n",
    "names.append(\"Asif\")\n",
    "names.append(\"Hamza\")\n",
    "names.append(\"Kashif\")\n",
    "names.append([1,2,3])\n",
    "\n",
    "print(names)"
   ]
  },
  {
   "cell_type": "code",
   "execution_count": 60,
   "id": "2b178355",
   "metadata": {},
   "outputs": [
    {
     "name": "stdout",
     "output_type": "stream",
     "text": [
      "['Asif', 'Hamza', 'Kashif', 1, 2, 3]\n"
     ]
    }
   ],
   "source": [
    "names = []\n",
    "\n",
    "names.append(\"Asif\")\n",
    "names.append(\"Hamza\")\n",
    "names.append(\"Kashif\")\n",
    "names.extend([1,2,3])\n",
    "\n",
    "print(names)"
   ]
  },
  {
   "cell_type": "code",
   "execution_count": 62,
   "id": "b2aa723f",
   "metadata": {},
   "outputs": [
    {
     "name": "stdout",
     "output_type": "stream",
     "text": [
      "[1, 2, 3, 'a', 'b', 'c']\n",
      "[1, 2, 3] ['a', 'b', 'c']\n"
     ]
    }
   ],
   "source": [
    "l1 = [1,2,3]\n",
    "l2 = ['a','b','c']\n",
    "\n",
    "print(l1 + l2)\n",
    "\n",
    "print(l1,l2)"
   ]
  },
  {
   "cell_type": "code",
   "execution_count": 63,
   "id": "49325365",
   "metadata": {},
   "outputs": [
    {
     "name": "stdout",
     "output_type": "stream",
     "text": [
      "[1, 2, 3, 'a', 'b', 'c'] ['a', 'b', 'c']\n"
     ]
    }
   ],
   "source": [
    "l1 = [1,2,3]\n",
    "l2 = ['a','b','c']\n",
    "\n",
    "l1.extend(l2)\n",
    "\n",
    "\n",
    "print(l1,l2)"
   ]
  },
  {
   "cell_type": "code",
   "execution_count": 64,
   "id": "7fa9f148",
   "metadata": {},
   "outputs": [
    {
     "data": {
      "text/plain": [
       "4"
      ]
     },
     "execution_count": 64,
     "metadata": {},
     "output_type": "execute_result"
    }
   ],
   "source": [
    "l1 = ['a','b','c','a','x','y','z']\n",
    "\n",
    "l1.index('x')"
   ]
  },
  {
   "cell_type": "code",
   "execution_count": 67,
   "id": "48355f68",
   "metadata": {},
   "outputs": [
    {
     "name": "stdout",
     "output_type": "stream",
     "text": [
      "0\n",
      "3\n"
     ]
    }
   ],
   "source": [
    "l1 = ['a','b','c','a','x','y','z']\n",
    "\n",
    "print(l1.index('a'))\n",
    "print(l1.index('a',1))"
   ]
  },
  {
   "cell_type": "markdown",
   "id": "55f36fe9",
   "metadata": {},
   "source": [
    "### insert"
   ]
  },
  {
   "cell_type": "code",
   "execution_count": 68,
   "id": "f9b38539",
   "metadata": {},
   "outputs": [
    {
     "name": "stdout",
     "output_type": "stream",
     "text": [
      "['a', 'pakistan', 'b', 'c', 'a', 'x', 'y', 'z']\n"
     ]
    }
   ],
   "source": [
    "l1 = ['a','b','c','a','x','y','z']\n",
    "\n",
    "l1.insert(1,\"pakistan\")\n",
    "print(l1)"
   ]
  },
  {
   "cell_type": "code",
   "execution_count": 72,
   "id": "32c6805d",
   "metadata": {},
   "outputs": [
    {
     "name": "stdout",
     "output_type": "stream",
     "text": [
      "['a', 'b', 'c', 'a', 'x', 'y', 'z']\n",
      "['a', 'b', 'c', 'a', 'x', 'y']\n",
      "['a', 'b', 'c', 'a', 'x']\n",
      "['b', 'c', 'a', 'x']\n"
     ]
    }
   ],
   "source": [
    "l1 = ['a','b','c','a','x','y','z']\n",
    "print(l1)\n",
    "l1.pop()\n",
    "print(l1)\n",
    "l1.pop()\n",
    "print(l1)\n",
    "l1.pop(0)\n",
    "print(l1)"
   ]
  },
  {
   "cell_type": "code",
   "execution_count": 74,
   "id": "1dc91bbd",
   "metadata": {},
   "outputs": [
    {
     "name": "stdout",
     "output_type": "stream",
     "text": [
      "['a', 'b', 'c', 'a', 'x', 'y', 'z']\n",
      "['a', 'b', 'c', 'a', 'x', 'y']\n",
      "['a', 'b', 'c', 'a', 'x']\n",
      "['b', 'c', 'a', 'x']\n",
      "Completed list  ['z', 'y', 'a']\n"
     ]
    }
   ],
   "source": [
    "l1 = ['a','b','c','a','x','y','z']\n",
    "l2 = []\n",
    "\n",
    "print(l1)\n",
    "l2.append(l1.pop())\n",
    "print(l1)\n",
    "l2.append(l1.pop())\n",
    "print(l1)\n",
    "l2.append(l1.pop(0))\n",
    "print(l1)\n",
    "\n",
    "print(\"Completed list \",l2)"
   ]
  },
  {
   "cell_type": "code",
   "execution_count": 75,
   "id": "317db736",
   "metadata": {},
   "outputs": [
    {
     "name": "stdout",
     "output_type": "stream",
     "text": [
      "['a', 'a', 'b', 'c', 'x', 'y', 'z']\n"
     ]
    }
   ],
   "source": [
    "l1 = ['a','b','c','a','x','y','z']\n",
    "\n",
    "l1.sort()\n",
    "\n",
    "print(l1)"
   ]
  },
  {
   "cell_type": "code",
   "execution_count": 76,
   "id": "9b1b539a",
   "metadata": {},
   "outputs": [
    {
     "name": "stdout",
     "output_type": "stream",
     "text": [
      "['z', 'y', 'x', 'a', 'c', 'b', 'a']\n"
     ]
    }
   ],
   "source": [
    "l1 = ['a','b','c','a','x','y','z']\n",
    "\n",
    "l1.reverse()\n",
    "\n",
    "print(l1)"
   ]
  },
  {
   "cell_type": "code",
   "execution_count": 80,
   "id": "df9cbd74",
   "metadata": {},
   "outputs": [
    {
     "name": "stdout",
     "output_type": "stream",
     "text": [
      "['z', 'y', 'x', 'c', 'b', 'a', 'a']\n"
     ]
    }
   ],
   "source": [
    "l1 = ['a','b','c','a','x','y','z']\n",
    "\n",
    "l1.sort()\n",
    "l1.reverse()\n",
    "\n",
    "print(l1)"
   ]
  },
  {
   "cell_type": "code",
   "execution_count": 81,
   "id": "58560f0e",
   "metadata": {},
   "outputs": [
    {
     "name": "stdout",
     "output_type": "stream",
     "text": [
      "['z', 'y', 'x', 'c', 'b', 'a', 'a']\n"
     ]
    }
   ],
   "source": [
    "l1 = ['a','b','c','a','x','y','z']\n",
    "\n",
    "l1.sort(reverse=True)\n",
    "\n",
    "print(l1)"
   ]
  },
  {
   "cell_type": "markdown",
   "id": "3f451463",
   "metadata": {},
   "source": [
    "# Remove value from list search with string"
   ]
  },
  {
   "cell_type": "code",
   "execution_count": 85,
   "id": "62538c5b",
   "metadata": {},
   "outputs": [
    {
     "name": "stdout",
     "output_type": "stream",
     "text": [
      "Enter item: x\n",
      "x <class 'str'>\n",
      "4 <class 'int'>\n",
      "['a', 'b', 'c', 'a', 'y', 'z']\n"
     ]
    }
   ],
   "source": [
    "l1 = ['a','b','c','a','x','y','z']\n",
    "\n",
    "\n",
    "remove_item = input(\"Enter item: \")\n",
    "indx = l1.index(remove_item)\n",
    "\n",
    "print(remove_item,type(remove_item))\n",
    "print(indx, type(indx))\n",
    "l1.pop(indx)\n",
    "\n",
    "print(l1)"
   ]
  },
  {
   "cell_type": "code",
   "execution_count": 87,
   "id": "1ebf6ae0",
   "metadata": {},
   "outputs": [
    {
     "name": "stdout",
     "output_type": "stream",
     "text": [
      "['a', 'b', 'c', 'a', 'y', 'z']\n"
     ]
    }
   ],
   "source": [
    "l1 = ['a','b','c','a','x','y','z']\n",
    "\n",
    "l1.remove('x')\n",
    "print(l1)"
   ]
  },
  {
   "cell_type": "code",
   "execution_count": 90,
   "id": "e8d834a8",
   "metadata": {},
   "outputs": [
    {
     "name": "stdout",
     "output_type": "stream",
     "text": [
      "Enter item: b\n",
      "['a', 'c', 'a', 'b', 'x', 'y', 'z'] None\n"
     ]
    }
   ],
   "source": [
    "l1 = ['a','b','c','a','b','x','y','z']\n",
    "\n",
    "remove_item = input(\"Enter item: \")\n",
    "\n",
    "a = l1.remove(remove_item)\n",
    "print(l1,a)"
   ]
  },
  {
   "cell_type": "code",
   "execution_count": 91,
   "id": "0a8edf9d",
   "metadata": {},
   "outputs": [
    {
     "name": "stdout",
     "output_type": "stream",
     "text": [
      "Enter item: b\n",
      "None\n",
      "None\n",
      "['a', 'c', 'a', 'x', 'y', 'z']\n"
     ]
    }
   ],
   "source": [
    "l1 = ['a','b','c','a','b','x','y','z']\n",
    "\n",
    "\n",
    "remove_item = input(\"Enter item: \")\n",
    "\n",
    "for i in range(l1.count(remove_item)):\n",
    "    a = l1.remove(remove_item)\n",
    "    print(a)\n",
    "print(l1)"
   ]
  },
  {
   "cell_type": "markdown",
   "id": "63891546",
   "metadata": {},
   "source": [
    "# Loop"
   ]
  },
  {
   "cell_type": "code",
   "execution_count": 92,
   "id": "09d4c320",
   "metadata": {},
   "outputs": [
    {
     "name": "stdout",
     "output_type": "stream",
     "text": [
      "a\n",
      "b\n",
      "c\n",
      "a\n",
      "b\n",
      "x\n",
      "y\n",
      "z\n"
     ]
    }
   ],
   "source": [
    "for i in ['a','b','c','a','b','x','y','z']:\n",
    "    print(i)"
   ]
  },
  {
   "cell_type": "code",
   "execution_count": null,
   "id": "0c3b9215",
   "metadata": {},
   "outputs": [],
   "source": [
    "['a','b','c','a','b','x','y','z']"
   ]
  }
 ],
 "metadata": {
  "kernelspec": {
   "display_name": "Python 3 (ipykernel)",
   "language": "python",
   "name": "python3"
  },
  "language_info": {
   "codemirror_mode": {
    "name": "ipython",
    "version": 3
   },
   "file_extension": ".py",
   "mimetype": "text/x-python",
   "name": "python",
   "nbconvert_exporter": "python",
   "pygments_lexer": "ipython3",
   "version": "3.9.13"
  }
 },
 "nbformat": 4,
 "nbformat_minor": 5
}
