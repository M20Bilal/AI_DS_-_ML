{
 "cells": [
  {
   "cell_type": "code",
   "execution_count": 22,
   "id": "f8935e23-9bd8-49af-bb40-8d8f5a47ec20",
   "metadata": {},
   "outputs": [
    {
     "name": "stdout",
     "output_type": "stream",
     "text": [
      "The Zen of Python, by Tim Peters\n",
      "\n",
      "Beautiful is better than ugly.\n",
      "Explicit is better than implicit.\n",
      "Simple is better than complex.\n",
      "Complex is better than complicated.\n",
      "Flat is better than nested.\n",
      "Sparse is better than dense.\n",
      "Readability counts.\n",
      "Special cases aren't special enough to break the rules.\n",
      "Although practicality beats purity.\n",
      "Errors should never pass silently.\n",
      "Unless explicitly silenced.\n",
      "In the face of ambiguity, refuse the temptation to guess.\n",
      "There should be one-- and preferably only one --obvious way to do it.\n",
      "Although that way may not be obvious at first unless you're Dutch.\n",
      "Now is better than never.\n",
      "Although never is often better than *right* now.\n",
      "If the implementation is hard to explain, it's a bad idea.\n",
      "If the implementation is easy to explain, it may be a good idea.\n",
      "Namespaces are one honking great idea -- let's do more of those!\n"
     ]
    }
   ],
   "source": [
    "import this"
   ]
  },
  {
   "cell_type": "markdown",
   "id": "d19c219c-7f28-4230-b45c-abfca6b923ad",
   "metadata": {},
   "source": [
    "# class 2\n",
    "* Help\n",
    "    * **function_name()**\n",
    "    * help function\n",
    "    * function_name(```press shift+tab```)\n",
    "    * function?\n",
    "    * function??\n",
    "    * ?function\n",
    "    * ??function\n",
    "* print\n",
    "    * value ,\n",
    "    * sep\n",
    "    * end\n",
    "* variable\n",
    "    * string\n",
    "        * start with **\"** and end with **\"**\n",
    "        ```\"Muhammad Qasim\"```\n",
    "        * you can also use these symbols for define string\n",
    "          * ```'``` single line string\n",
    "          * ```\"``` single line string\n",
    "          * ```\"\"\"``` multilines string\n",
    "          * ```'''``` multilines string\n",
    "    * number\n",
    "        * int\n",
    "            * ```1``` \n",
    "        * float\n",
    "            * ```1.5```\n",
    "    * with print\n",
    "  "
   ]
  },
  {
   "cell_type": "code",
   "execution_count": 1,
   "id": "40466ced-67c6-4530-991d-cc1b8daa3364",
   "metadata": {},
   "outputs": [
    {
     "name": "stdout",
     "output_type": "stream",
     "text": [
      "Help on built-in function print in module builtins:\n",
      "\n",
      "print(...)\n",
      "    print(value, ..., sep=' ', end='\\n', file=sys.stdout, flush=False)\n",
      "    \n",
      "    Prints the values to a stream, or to sys.stdout by default.\n",
      "    Optional keyword arguments:\n",
      "    file:  a file-like object (stream); defaults to the current sys.stdout.\n",
      "    sep:   string inserted between values, default a space.\n",
      "    end:   string appended after the last value, default a newline.\n",
      "    flush: whether to forcibly flush the stream.\n",
      "\n"
     ]
    }
   ],
   "source": [
    "help(print)"
   ]
  },
  {
   "cell_type": "code",
   "execution_count": 2,
   "id": "e1dd4c31",
   "metadata": {},
   "outputs": [
    {
     "name": "stdout",
     "output_type": "stream",
     "text": [
      "Help on built-in function len in module builtins:\n",
      "\n",
      "len(obj, /)\n",
      "    Return the number of items in a container.\n",
      "\n"
     ]
    }
   ],
   "source": [
    "help(len)"
   ]
  },
  {
   "cell_type": "code",
   "execution_count": 2,
   "id": "64c498bd-13b5-4cd2-a8ba-f830a6c8fff7",
   "metadata": {},
   "outputs": [
    {
     "name": "stdout",
     "output_type": "stream",
     "text": [
      "\n"
     ]
    }
   ],
   "source": [
    "# press shift+tab in round brekets\n",
    "print()"
   ]
  },
  {
   "cell_type": "code",
   "execution_count": null,
   "id": "a517759a",
   "metadata": {},
   "outputs": [],
   "source": [
    "len()"
   ]
  },
  {
   "cell_type": "code",
   "execution_count": 3,
   "id": "c88c0fa7-0752-4dec-9676-6f80965fb33f",
   "metadata": {},
   "outputs": [],
   "source": [
    "print?"
   ]
  },
  {
   "cell_type": "code",
   "execution_count": 4,
   "id": "e000c4ad-9d5d-4532-b504-ca01da08c92a",
   "metadata": {},
   "outputs": [],
   "source": [
    "print??"
   ]
  },
  {
   "cell_type": "code",
   "execution_count": 5,
   "id": "a8f90bb8-18d8-4baf-8875-f742cb56c07b",
   "metadata": {},
   "outputs": [
    {
     "data": {
      "text/plain": [
       "\u001b[1;31mDocstring:\u001b[0m\n",
       "print(value, ..., sep=' ', end='\\n', file=sys.stdout, flush=False)\n",
       "\n",
       "Prints the values to a stream, or to sys.stdout by default.\n",
       "Optional keyword arguments:\n",
       "file:  a file-like object (stream); defaults to the current sys.stdout.\n",
       "sep:   string inserted between values, default a space.\n",
       "end:   string appended after the last value, default a newline.\n",
       "flush: whether to forcibly flush the stream.\n",
       "\u001b[1;31mType:\u001b[0m      builtin_function_or_method\n"
      ]
     },
     "metadata": {},
     "output_type": "display_data"
    }
   ],
   "source": [
    "?print"
   ]
  },
  {
   "cell_type": "code",
   "execution_count": 6,
   "id": "10410332-71d1-4b7a-b83c-5c7c3ce60461",
   "metadata": {},
   "outputs": [
    {
     "data": {
      "text/plain": [
       "\u001b[1;31mDocstring:\u001b[0m\n",
       "print(value, ..., sep=' ', end='\\n', file=sys.stdout, flush=False)\n",
       "\n",
       "Prints the values to a stream, or to sys.stdout by default.\n",
       "Optional keyword arguments:\n",
       "file:  a file-like object (stream); defaults to the current sys.stdout.\n",
       "sep:   string inserted between values, default a space.\n",
       "end:   string appended after the last value, default a newline.\n",
       "flush: whether to forcibly flush the stream.\n",
       "\u001b[1;31mType:\u001b[0m      builtin_function_or_method\n"
      ]
     },
     "metadata": {},
     "output_type": "display_data"
    }
   ],
   "source": [
    "??print"
   ]
  },
  {
   "cell_type": "markdown",
   "id": "aafe5ae5-02a5-4d0b-89cf-a7c29e64e3da",
   "metadata": {},
   "source": [
    "# Pass values in print function"
   ]
  },
  {
   "cell_type": "code",
   "execution_count": 5,
   "id": "f71ec850-d36e-4822-ac39-bd5c1bafa60c",
   "metadata": {},
   "outputs": [
    {
     "name": "stdout",
     "output_type": "stream",
     "text": [
      "A B C D\n"
     ]
    }
   ],
   "source": [
    "print(\"A\",\"B\",\"C\",\"D\")"
   ]
  },
  {
   "cell_type": "code",
   "execution_count": 6,
   "id": "f53f206f-3e12-450e-8c31-3c9f9322e565",
   "metadata": {},
   "outputs": [
    {
     "name": "stdout",
     "output_type": "stream",
     "text": [
      "ABCD\n"
     ]
    }
   ],
   "source": [
    "print(\"A\",\"B\",\"C\",\"D\",sep='')"
   ]
  },
  {
   "cell_type": "code",
   "execution_count": 7,
   "id": "99a399d9-bcb2-42bb-b9e0-7206fed63ca4",
   "metadata": {},
   "outputs": [
    {
     "name": "stdout",
     "output_type": "stream",
     "text": [
      "A*B*C*D\n"
     ]
    }
   ],
   "source": [
    "print(\"A\",\"B\",\"C\",\"D\",sep='*')"
   ]
  },
  {
   "cell_type": "code",
   "execution_count": 8,
   "id": "13c8dbf3-2ded-442b-8c82-44a3835b99e1",
   "metadata": {},
   "outputs": [
    {
     "name": "stdout",
     "output_type": "stream",
     "text": [
      "A***B***C***D\n"
     ]
    }
   ],
   "source": [
    "print(\"A\",\"B\",\"C\",\"D\",sep='***')"
   ]
  },
  {
   "cell_type": "code",
   "execution_count": 9,
   "id": "52d3410c-ceb5-4b76-881f-47d0502675c6",
   "metadata": {},
   "outputs": [
    {
     "name": "stdout",
     "output_type": "stream",
     "text": [
      "1 2.5 8 10 A B\n"
     ]
    }
   ],
   "source": [
    "print(1,2.5,8,10,\"A\",\"B\")"
   ]
  },
  {
   "cell_type": "code",
   "execution_count": 16,
   "id": "609983d6-bfd3-4e30-bc5d-bd2753d86fa3",
   "metadata": {},
   "outputs": [
    {
     "name": "stdout",
     "output_type": "stream",
     "text": [
      "Line1 A\n",
      "Line2 B\n",
      "Line3 C\n"
     ]
    }
   ],
   "source": [
    "print(\"Line1\",\"A\")\n",
    "print(\"Line2\",\"B\")\n",
    "print(\"Line3\",\"C\")"
   ]
  },
  {
   "cell_type": "code",
   "execution_count": 14,
   "id": "c11c2ab5-857f-4333-98cd-d0d4d6c6d19c",
   "metadata": {},
   "outputs": [
    {
     "name": "stdout",
     "output_type": "stream",
     "text": [
      "Line1\n",
      "Line2\n",
      "Line3\n"
     ]
    }
   ],
   "source": [
    "print(\"Line1\", end='\\n')\n",
    "print(\"Line2\", end='\\n')\n",
    "print(\"Line3\", end='\\n')"
   ]
  },
  {
   "cell_type": "code",
   "execution_count": 17,
   "id": "bd19c936-68c8-4280-919c-2e3ed130ebc3",
   "metadata": {},
   "outputs": [
    {
     "name": "stdout",
     "output_type": "stream",
     "text": [
      "Line1>>>Line2>>>Line3>>>"
     ]
    }
   ],
   "source": [
    "print(\"Line1\", end='>>>')\n",
    "print(\"Line2\", end='>>>')\n",
    "print(\"Line3\", end='>>>')"
   ]
  },
  {
   "cell_type": "code",
   "execution_count": 18,
   "id": "aa792e6d-9e02-439a-8ed4-0448e86c839c",
   "metadata": {},
   "outputs": [
    {
     "name": "stdout",
     "output_type": "stream",
     "text": [
      "1 2 3 4\n",
      "A B C d\n",
      "i ii iii iv\n"
     ]
    }
   ],
   "source": [
    "print(1,2,3,4)\n",
    "print(\"A\",\"B\",\"C\",'d')\n",
    "print(\"i\",\"ii\",\"iii\",\"iv\")"
   ]
  },
  {
   "cell_type": "code",
   "execution_count": 20,
   "id": "04f24ef8-f48c-4d5d-9b08-bb63a50a5e1a",
   "metadata": {},
   "outputs": [
    {
     "name": "stdout",
     "output_type": "stream",
     "text": [
      "1*2*3*4\n",
      "A>B>C>d\n",
      "i<ii<iii<iv\n"
     ]
    }
   ],
   "source": [
    "print(1,2,3,4,sep=\"*\")\n",
    "print(\"A\",\"B\",\"C\",'d', sep=\">\")\n",
    "print(\"i\",\"ii\",\"iii\",\"iv\", sep=\"<\")"
   ]
  },
  {
   "cell_type": "code",
   "execution_count": 10,
   "id": "ba42358c-aa86-4559-b944-6d18be509920",
   "metadata": {},
   "outputs": [
    {
     "name": "stdout",
     "output_type": "stream",
     "text": [
      "1*2*3*4 A>B>C>d i<ii<iii<iv "
     ]
    }
   ],
   "source": [
    "print(1,2,3,4,sep=\"*\", end=\" \")\n",
    "print(\"A\",\"B\",\"C\",'d', sep=\">\", end=\" \")\n",
    "print(\"i\",\"ii\",\"iii\",\"iv\", sep=\"<\", end=\" \")"
   ]
  },
  {
   "cell_type": "markdown",
   "id": "35bf307b-c5fa-455b-bb34-961c0d59ef41",
   "metadata": {},
   "source": [
    "# Variable\n",
    "https://peps.python.org/pep-0020/\n",
    "<img src=\"./ram_variable_storage.png\">\n",
    "**```variable_name = value```**"
   ]
  },
  {
   "cell_type": "code",
   "execution_count": 13,
   "id": "a090743f-47d1-43d1-a33f-9bfe53e0961e",
   "metadata": {},
   "outputs": [
    {
     "name": "stdout",
     "output_type": "stream",
     "text": [
      "Muhammad Qasim\n",
      "Muhammad Qasim\n",
      "Muhammad Qasim\n"
     ]
    }
   ],
   "source": [
    "user = \"Muhammad Qasim\"\n",
    "\n",
    "print(user)\n",
    "print(user)\n",
    "print(user)"
   ]
  },
  {
   "cell_type": "code",
   "execution_count": 25,
   "id": "8159a867-de26-465c-af75-6f583df3721d",
   "metadata": {},
   "outputs": [
    {
     "name": "stdout",
     "output_type": "stream",
     "text": [
      "Muhammad Qasim\n",
      "Muhammad Qasim\n",
      "Muhammad Qasim\n"
     ]
    }
   ],
   "source": [
    "print(\"Muhammad Qasim\")\n",
    "print(\"Muhammad Qasim\")\n",
    "print(\"Muhammad Qasim\")"
   ]
  },
  {
   "cell_type": "markdown",
   "id": "1a2c03b6-60ab-434c-ad94-4258aee8e56f",
   "metadata": {},
   "source": [
    "var name string = \"Muhammad Qasim\""
   ]
  },
  {
   "cell_type": "code",
   "execution_count": 27,
   "id": "419cca10-fdf3-4aad-a1fd-944257b536d3",
   "metadata": {},
   "outputs": [
    {
     "name": "stdout",
     "output_type": "stream",
     "text": [
      "Welcome Dear Muhammad Qasim  Happy Birtday on your 30\n"
     ]
    }
   ],
   "source": [
    "name = \"Muhammad Qasim\"\n",
    "age = 30\n",
    "education = \"MSDS\"\n",
    "\n",
    "print(\"Welcome Dear\",name,\" Happy Birtday on your\", age)"
   ]
  },
  {
   "cell_type": "code",
   "execution_count": 14,
   "id": "61efe314-bae5-4131-82e4-4a62ebb6fe95",
   "metadata": {},
   "outputs": [
    {
     "name": "stdout",
     "output_type": "stream",
     "text": [
      "Welcome Dear Muhammad Qasim  Happy Birtday on your 30\n"
     ]
    }
   ],
   "source": [
    "name = \"Muhammad Qasim\"\n",
    "age = 30\n",
    "education = \"MSDS\"\n",
    "\n",
    "print(\"Welcome Dear\",\"Muhammad Qasim\",\" Happy Birtday on your\", 30)"
   ]
  },
  {
   "cell_type": "code",
   "execution_count": 16,
   "id": "81be47b3-650a-463f-acab-f986ca54d942",
   "metadata": {},
   "outputs": [
    {
     "name": "stdout",
     "output_type": "stream",
     "text": [
      "\n",
      "Saylani Mass IT program\n",
      "Batch-4 AI and DS\n",
      "Class days: Tue and Fri\n",
      "\n"
     ]
    }
   ],
   "source": [
    "card = \"\"\"\n",
    "Saylani Mass IT program\n",
    "Batch-4 AI and DS\n",
    "Class days: Tue and Fri\n",
    "\"\"\"\n",
    "\n",
    "print(card)\n",
    "# card"
   ]
  },
  {
   "cell_type": "code",
   "execution_count": 17,
   "id": "88e1a3ea-9361-4bcc-8636-858502b90c0a",
   "metadata": {},
   "outputs": [
    {
     "name": "stdout",
     "output_type": "stream",
     "text": [
      "Saylani Mass IT program\n",
      "Batch-4 AI and DS\n",
      "Class days: Tue and Fri\n"
     ]
    }
   ],
   "source": [
    "card = \"Saylani Mass IT program\\nBatch-4 AI and DS\\nClass days: Tue and Fri\"\n",
    "\n",
    "print(card)"
   ]
  },
  {
   "cell_type": "code",
   "execution_count": 34,
   "id": "5b6da6c2-8839-4959-bc73-48908c1f3860",
   "metadata": {},
   "outputs": [
    {
     "ename": "SyntaxError",
     "evalue": "invalid syntax (3008126731.py, line 1)",
     "output_type": "error",
     "traceback": [
      "\u001b[1;36m  File \u001b[1;32m\"C:\\Users\\Mass IT\\AppData\\Local\\Temp\\ipykernel_1356\\3008126731.py\"\u001b[1;36m, line \u001b[1;32m1\u001b[0m\n\u001b[1;33m    message = 'Welcome Dear 'Muhammad Qasim''\u001b[0m\n\u001b[1;37m                             ^\u001b[0m\n\u001b[1;31mSyntaxError\u001b[0m\u001b[1;31m:\u001b[0m invalid syntax\n"
     ]
    }
   ],
   "source": [
    "message = 'Welcome Dear 'Muhammad Qasim''\n",
    "print(message)"
   ]
  },
  {
   "cell_type": "code",
   "execution_count": 35,
   "id": "611cdb5c-a254-4a67-b2cd-30e17718722a",
   "metadata": {},
   "outputs": [
    {
     "ename": "SyntaxError",
     "evalue": "invalid syntax (2715461963.py, line 1)",
     "output_type": "error",
     "traceback": [
      "\u001b[1;36m  File \u001b[1;32m\"C:\\Users\\Mass IT\\AppData\\Local\\Temp\\ipykernel_1356\\2715461963.py\"\u001b[1;36m, line \u001b[1;32m1\u001b[0m\n\u001b[1;33m    message = \"Welcome Dear \"Muhammad Qasim\"\"\u001b[0m\n\u001b[1;37m                             ^\u001b[0m\n\u001b[1;31mSyntaxError\u001b[0m\u001b[1;31m:\u001b[0m invalid syntax\n"
     ]
    }
   ],
   "source": [
    "message = \"Welcome Dear \"Muhammad Qasim\"\"\n",
    "print(message)"
   ]
  },
  {
   "cell_type": "code",
   "execution_count": 31,
   "id": "a5b33ecd-68b9-41b3-92a1-fd12d1052511",
   "metadata": {},
   "outputs": [
    {
     "name": "stdout",
     "output_type": "stream",
     "text": [
      "Welcome Dear Muhammad Qasim\n"
     ]
    }
   ],
   "source": [
    "message = \"Welcome Dear Muhammad Qasim\"\n",
    "print(message)"
   ]
  },
  {
   "cell_type": "code",
   "execution_count": 32,
   "id": "8722b67e-e214-4746-b531-657eeae22dd5",
   "metadata": {},
   "outputs": [
    {
     "name": "stdout",
     "output_type": "stream",
     "text": [
      "Welcome Dear \"Muhammad Qasim\"\n"
     ]
    }
   ],
   "source": [
    "message = 'Welcome Dear \"Muhammad Qasim\"'\n",
    "print(message)"
   ]
  },
  {
   "cell_type": "code",
   "execution_count": 33,
   "id": "7ee37d49-a8d1-418b-a754-ef0842de72b4",
   "metadata": {},
   "outputs": [
    {
     "name": "stdout",
     "output_type": "stream",
     "text": [
      "Welcome Dear 'Muhammad Qasim'\n"
     ]
    }
   ],
   "source": [
    "message = \"Welcome Dear 'Muhammad Qasim'\"\n",
    "print(message)"
   ]
  },
  {
   "cell_type": "markdown",
   "id": "5bb531f1-a6b5-40e6-9e50-98c93df0c4d7",
   "metadata": {},
   "source": [
    "# convert special character into normal character\n",
    "# put **\\\\** before this character"
   ]
  },
  {
   "cell_type": "code",
   "execution_count": 38,
   "id": "8253365c-42b2-4af3-bff7-440b57f8b409",
   "metadata": {},
   "outputs": [
    {
     "name": "stdout",
     "output_type": "stream",
     "text": [
      "Welcome Dear \"Muhammad Qasim\"  \n"
     ]
    }
   ],
   "source": [
    "message = \"Welcome Dear \\\"Muhammad Qasim\\\"  \"\n",
    "print(message)"
   ]
  },
  {
   "cell_type": "markdown",
   "id": "fcdc327e-071c-4c54-95e7-29815e6defe0",
   "metadata": {},
   "source": [
    "# apply some function on variable\n",
    "* help()\n",
    "* len()\n",
    "* id()\n",
    "* type()\n",
    "* dir()"
   ]
  },
  {
   "cell_type": "code",
   "execution_count": 45,
   "id": "510228d1-d7f4-4e62-ac97-0d44d7882308",
   "metadata": {},
   "outputs": [
    {
     "name": "stdout",
     "output_type": "stream",
     "text": [
      "Muhammad Qasim\n",
      "14\n",
      "<class 'str'>\n",
      "2348532489904\n",
      "['__add__', '__class__', '__contains__', '__delattr__', '__dir__', '__doc__', '__eq__', '__format__', '__ge__', '__getattribute__', '__getitem__', '__getnewargs__', '__gt__', '__hash__', '__init__', '__init_subclass__', '__iter__', '__le__', '__len__', '__lt__', '__mod__', '__mul__', '__ne__', '__new__', '__reduce__', '__reduce_ex__', '__repr__', '__rmod__', '__rmul__', '__setattr__', '__sizeof__', '__str__', '__subclasshook__', 'capitalize', 'casefold', 'center', 'count', 'encode', 'endswith', 'expandtabs', 'find', 'format', 'format_map', 'index', 'isalnum', 'isalpha', 'isascii', 'isdecimal', 'isdigit', 'isidentifier', 'islower', 'isnumeric', 'isprintable', 'isspace', 'istitle', 'isupper', 'join', 'ljust', 'lower', 'lstrip', 'maketrans', 'partition', 'removeprefix', 'removesuffix', 'replace', 'rfind', 'rindex', 'rjust', 'rpartition', 'rsplit', 'rstrip', 'split', 'splitlines', 'startswith', 'strip', 'swapcase', 'title', 'translate', 'upper', 'zfill']\n"
     ]
    }
   ],
   "source": [
    "name = \"Muhammad Qasim\"\n",
    "\n",
    "print(name)\n",
    "print(len(name)) # length of variable\n",
    "print(type(name)) # variable type\n",
    "print(id(name)) # memory address of variable\n",
    "print(dir(name)) # all methods and attributes of variable"
   ]
  },
  {
   "cell_type": "code",
   "execution_count": 48,
   "id": "934a269f-c9b4-4123-a629-ed3450f112e1",
   "metadata": {},
   "outputs": [
    {
     "name": "stdout",
     "output_type": "stream",
     "text": [
      "30\n",
      "<class 'int'>\n",
      "2348407942352\n",
      "['__abs__', '__add__', '__and__', '__bool__', '__ceil__', '__class__', '__delattr__', '__dir__', '__divmod__', '__doc__', '__eq__', '__float__', '__floor__', '__floordiv__', '__format__', '__ge__', '__getattribute__', '__getnewargs__', '__gt__', '__hash__', '__index__', '__init__', '__init_subclass__', '__int__', '__invert__', '__le__', '__lshift__', '__lt__', '__mod__', '__mul__', '__ne__', '__neg__', '__new__', '__or__', '__pos__', '__pow__', '__radd__', '__rand__', '__rdivmod__', '__reduce__', '__reduce_ex__', '__repr__', '__rfloordiv__', '__rlshift__', '__rmod__', '__rmul__', '__ror__', '__round__', '__rpow__', '__rrshift__', '__rshift__', '__rsub__', '__rtruediv__', '__rxor__', '__setattr__', '__sizeof__', '__str__', '__sub__', '__subclasshook__', '__truediv__', '__trunc__', '__xor__', 'as_integer_ratio', 'bit_length', 'conjugate', 'denominator', 'from_bytes', 'imag', 'numerator', 'real', 'to_bytes']\n"
     ]
    }
   ],
   "source": [
    "age = 30\n",
    "\n",
    "print(age)\n",
    "# print(len(age)) # length of variable\n",
    "print(type(age)) # variable type\n",
    "print(id(age)) # memory address of variable\n",
    "print(dir(age)) # all methods and attributes of variable"
   ]
  },
  {
   "cell_type": "code",
   "execution_count": null,
   "id": "d2da4a93-2ce3-44a9-9def-0af6e3986e9a",
   "metadata": {},
   "outputs": [],
   "source": []
  }
 ],
 "metadata": {
  "kernelspec": {
   "display_name": "Python 3 (ipykernel)",
   "language": "python",
   "name": "python3"
  },
  "language_info": {
   "codemirror_mode": {
    "name": "ipython",
    "version": 3
   },
   "file_extension": ".py",
   "mimetype": "text/x-python",
   "name": "python",
   "nbconvert_exporter": "python",
   "pygments_lexer": "ipython3",
   "version": "3.9.13"
  }
 },
 "nbformat": 4,
 "nbformat_minor": 5
}
